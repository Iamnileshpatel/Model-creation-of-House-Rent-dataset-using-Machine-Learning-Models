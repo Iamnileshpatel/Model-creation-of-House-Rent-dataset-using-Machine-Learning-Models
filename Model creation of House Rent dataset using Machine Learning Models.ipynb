{
 "cells": [
  {
   "cell_type": "markdown",
   "id": "c5a1b088",
   "metadata": {},
   "source": [
    "# HOUSE RENT PREDICTION OF DIFFERENT CITIES OF INDIA"
   ]
  },
  {
   "cell_type": "markdown",
   "id": "c16f8710",
   "metadata": {},
   "source": [
    "### In this notebook, we will be creating a model that will predict the rent of a house/apartment/flat based on various input features present in the dataset. We will also do some exploratory data analysis, data preprocessing, and feature engineering if required."
   ]
  },
  {
   "cell_type": "code",
   "execution_count": 1,
   "id": "df5e69dc",
   "metadata": {},
   "outputs": [],
   "source": [
    "# Importing necessary library\n",
    "import pandas as pd\n",
    "import numpy as np \n",
    "import matplotlib.pyplot as plt\n",
    "import seaborn as sns"
   ]
  },
  {
   "cell_type": "code",
   "execution_count": 2,
   "id": "80f3399d",
   "metadata": {},
   "outputs": [
    {
     "data": {
      "text/html": [
       "<div>\n",
       "<style scoped>\n",
       "    .dataframe tbody tr th:only-of-type {\n",
       "        vertical-align: middle;\n",
       "    }\n",
       "\n",
       "    .dataframe tbody tr th {\n",
       "        vertical-align: top;\n",
       "    }\n",
       "\n",
       "    .dataframe thead th {\n",
       "        text-align: right;\n",
       "    }\n",
       "</style>\n",
       "<table border=\"1\" class=\"dataframe\">\n",
       "  <thead>\n",
       "    <tr style=\"text-align: right;\">\n",
       "      <th></th>\n",
       "      <th>Posted On</th>\n",
       "      <th>BHK</th>\n",
       "      <th>Rent</th>\n",
       "      <th>Size</th>\n",
       "      <th>Floor</th>\n",
       "      <th>Area Type</th>\n",
       "      <th>Area Locality</th>\n",
       "      <th>City</th>\n",
       "      <th>Furnishing Status</th>\n",
       "      <th>Tenant Preferred</th>\n",
       "      <th>Bathroom</th>\n",
       "      <th>Point of Contact</th>\n",
       "    </tr>\n",
       "  </thead>\n",
       "  <tbody>\n",
       "    <tr>\n",
       "      <th>0</th>\n",
       "      <td>2022-05-18</td>\n",
       "      <td>2</td>\n",
       "      <td>10000</td>\n",
       "      <td>1100</td>\n",
       "      <td>Ground out of 2</td>\n",
       "      <td>Super Area</td>\n",
       "      <td>Bandel</td>\n",
       "      <td>Kolkata</td>\n",
       "      <td>Unfurnished</td>\n",
       "      <td>Bachelors/Family</td>\n",
       "      <td>2</td>\n",
       "      <td>Contact Owner</td>\n",
       "    </tr>\n",
       "    <tr>\n",
       "      <th>1</th>\n",
       "      <td>2022-05-13</td>\n",
       "      <td>2</td>\n",
       "      <td>20000</td>\n",
       "      <td>800</td>\n",
       "      <td>1 out of 3</td>\n",
       "      <td>Super Area</td>\n",
       "      <td>Phool Bagan, Kankurgachi</td>\n",
       "      <td>Kolkata</td>\n",
       "      <td>Semi-Furnished</td>\n",
       "      <td>Bachelors/Family</td>\n",
       "      <td>1</td>\n",
       "      <td>Contact Owner</td>\n",
       "    </tr>\n",
       "    <tr>\n",
       "      <th>2</th>\n",
       "      <td>2022-05-16</td>\n",
       "      <td>2</td>\n",
       "      <td>17000</td>\n",
       "      <td>1000</td>\n",
       "      <td>1 out of 3</td>\n",
       "      <td>Super Area</td>\n",
       "      <td>Salt Lake City Sector 2</td>\n",
       "      <td>Kolkata</td>\n",
       "      <td>Semi-Furnished</td>\n",
       "      <td>Bachelors/Family</td>\n",
       "      <td>1</td>\n",
       "      <td>Contact Owner</td>\n",
       "    </tr>\n",
       "    <tr>\n",
       "      <th>3</th>\n",
       "      <td>2022-07-04</td>\n",
       "      <td>2</td>\n",
       "      <td>10000</td>\n",
       "      <td>800</td>\n",
       "      <td>1 out of 2</td>\n",
       "      <td>Super Area</td>\n",
       "      <td>Dumdum Park</td>\n",
       "      <td>Kolkata</td>\n",
       "      <td>Unfurnished</td>\n",
       "      <td>Bachelors/Family</td>\n",
       "      <td>1</td>\n",
       "      <td>Contact Owner</td>\n",
       "    </tr>\n",
       "    <tr>\n",
       "      <th>4</th>\n",
       "      <td>2022-05-09</td>\n",
       "      <td>2</td>\n",
       "      <td>7500</td>\n",
       "      <td>850</td>\n",
       "      <td>1 out of 2</td>\n",
       "      <td>Carpet Area</td>\n",
       "      <td>South Dum Dum</td>\n",
       "      <td>Kolkata</td>\n",
       "      <td>Unfurnished</td>\n",
       "      <td>Bachelors</td>\n",
       "      <td>1</td>\n",
       "      <td>Contact Owner</td>\n",
       "    </tr>\n",
       "    <tr>\n",
       "      <th>5</th>\n",
       "      <td>2022-04-29</td>\n",
       "      <td>2</td>\n",
       "      <td>7000</td>\n",
       "      <td>600</td>\n",
       "      <td>Ground out of 1</td>\n",
       "      <td>Super Area</td>\n",
       "      <td>Thakurpukur</td>\n",
       "      <td>Kolkata</td>\n",
       "      <td>Unfurnished</td>\n",
       "      <td>Bachelors/Family</td>\n",
       "      <td>2</td>\n",
       "      <td>Contact Owner</td>\n",
       "    </tr>\n",
       "    <tr>\n",
       "      <th>6</th>\n",
       "      <td>2022-06-21</td>\n",
       "      <td>2</td>\n",
       "      <td>10000</td>\n",
       "      <td>700</td>\n",
       "      <td>Ground out of 4</td>\n",
       "      <td>Super Area</td>\n",
       "      <td>Malancha</td>\n",
       "      <td>Kolkata</td>\n",
       "      <td>Unfurnished</td>\n",
       "      <td>Bachelors</td>\n",
       "      <td>2</td>\n",
       "      <td>Contact Agent</td>\n",
       "    </tr>\n",
       "    <tr>\n",
       "      <th>7</th>\n",
       "      <td>2022-06-21</td>\n",
       "      <td>1</td>\n",
       "      <td>5000</td>\n",
       "      <td>250</td>\n",
       "      <td>1 out of 2</td>\n",
       "      <td>Super Area</td>\n",
       "      <td>Malancha</td>\n",
       "      <td>Kolkata</td>\n",
       "      <td>Unfurnished</td>\n",
       "      <td>Bachelors</td>\n",
       "      <td>1</td>\n",
       "      <td>Contact Agent</td>\n",
       "    </tr>\n",
       "    <tr>\n",
       "      <th>8</th>\n",
       "      <td>2022-06-07</td>\n",
       "      <td>2</td>\n",
       "      <td>26000</td>\n",
       "      <td>800</td>\n",
       "      <td>1 out of 2</td>\n",
       "      <td>Carpet Area</td>\n",
       "      <td>Palm Avenue Kolkata, Ballygunge</td>\n",
       "      <td>Kolkata</td>\n",
       "      <td>Unfurnished</td>\n",
       "      <td>Bachelors</td>\n",
       "      <td>2</td>\n",
       "      <td>Contact Agent</td>\n",
       "    </tr>\n",
       "    <tr>\n",
       "      <th>9</th>\n",
       "      <td>2022-06-20</td>\n",
       "      <td>2</td>\n",
       "      <td>10000</td>\n",
       "      <td>1000</td>\n",
       "      <td>1 out of 3</td>\n",
       "      <td>Carpet Area</td>\n",
       "      <td>Natunhat</td>\n",
       "      <td>Kolkata</td>\n",
       "      <td>Semi-Furnished</td>\n",
       "      <td>Bachelors/Family</td>\n",
       "      <td>2</td>\n",
       "      <td>Contact Owner</td>\n",
       "    </tr>\n",
       "  </tbody>\n",
       "</table>\n",
       "</div>"
      ],
      "text/plain": [
       "    Posted On  BHK   Rent  Size            Floor    Area Type  \\\n",
       "0  2022-05-18    2  10000  1100  Ground out of 2   Super Area   \n",
       "1  2022-05-13    2  20000   800       1 out of 3   Super Area   \n",
       "2  2022-05-16    2  17000  1000       1 out of 3   Super Area   \n",
       "3  2022-07-04    2  10000   800       1 out of 2   Super Area   \n",
       "4  2022-05-09    2   7500   850       1 out of 2  Carpet Area   \n",
       "5  2022-04-29    2   7000   600  Ground out of 1   Super Area   \n",
       "6  2022-06-21    2  10000   700  Ground out of 4   Super Area   \n",
       "7  2022-06-21    1   5000   250       1 out of 2   Super Area   \n",
       "8  2022-06-07    2  26000   800       1 out of 2  Carpet Area   \n",
       "9  2022-06-20    2  10000  1000       1 out of 3  Carpet Area   \n",
       "\n",
       "                     Area Locality     City Furnishing Status  \\\n",
       "0                           Bandel  Kolkata       Unfurnished   \n",
       "1         Phool Bagan, Kankurgachi  Kolkata    Semi-Furnished   \n",
       "2          Salt Lake City Sector 2  Kolkata    Semi-Furnished   \n",
       "3                      Dumdum Park  Kolkata       Unfurnished   \n",
       "4                    South Dum Dum  Kolkata       Unfurnished   \n",
       "5                      Thakurpukur  Kolkata       Unfurnished   \n",
       "6                         Malancha  Kolkata       Unfurnished   \n",
       "7                         Malancha  Kolkata       Unfurnished   \n",
       "8  Palm Avenue Kolkata, Ballygunge  Kolkata       Unfurnished   \n",
       "9                         Natunhat  Kolkata    Semi-Furnished   \n",
       "\n",
       "   Tenant Preferred  Bathroom Point of Contact  \n",
       "0  Bachelors/Family         2    Contact Owner  \n",
       "1  Bachelors/Family         1    Contact Owner  \n",
       "2  Bachelors/Family         1    Contact Owner  \n",
       "3  Bachelors/Family         1    Contact Owner  \n",
       "4         Bachelors         1    Contact Owner  \n",
       "5  Bachelors/Family         2    Contact Owner  \n",
       "6         Bachelors         2    Contact Agent  \n",
       "7         Bachelors         1    Contact Agent  \n",
       "8         Bachelors         2    Contact Agent  \n",
       "9  Bachelors/Family         2    Contact Owner  "
      ]
     },
     "execution_count": 2,
     "metadata": {},
     "output_type": "execute_result"
    }
   ],
   "source": [
    "# Reading the dataset\n",
    "data = pd.read_csv('C:\\\\Users\\\\VIVEK KUMAR SINGH\\\\OneDrive - nitrkl.ac.in\\\\data analytics\\\\capstone project 1\\\\House_Rent_Dataset.csv')\n",
    "data.head(10)"
   ]
  },
  {
   "cell_type": "code",
   "execution_count": 3,
   "id": "8f5e43a1",
   "metadata": {},
   "outputs": [
    {
     "data": {
      "text/plain": [
       "(4746, 12)"
      ]
     },
     "execution_count": 3,
     "metadata": {},
     "output_type": "execute_result"
    }
   ],
   "source": [
    "data.shape"
   ]
  },
  {
   "cell_type": "code",
   "execution_count": 4,
   "id": "b3bebe0e",
   "metadata": {},
   "outputs": [
    {
     "name": "stdout",
     "output_type": "stream",
     "text": [
      "<class 'pandas.core.frame.DataFrame'>\n",
      "RangeIndex: 4746 entries, 0 to 4745\n",
      "Data columns (total 12 columns):\n",
      " #   Column             Non-Null Count  Dtype \n",
      "---  ------             --------------  ----- \n",
      " 0   Posted On          4746 non-null   object\n",
      " 1   BHK                4746 non-null   int64 \n",
      " 2   Rent               4746 non-null   int64 \n",
      " 3   Size               4746 non-null   int64 \n",
      " 4   Floor              4746 non-null   object\n",
      " 5   Area Type          4746 non-null   object\n",
      " 6   Area Locality      4746 non-null   object\n",
      " 7   City               4746 non-null   object\n",
      " 8   Furnishing Status  4746 non-null   object\n",
      " 9   Tenant Preferred   4746 non-null   object\n",
      " 10  Bathroom           4746 non-null   int64 \n",
      " 11  Point of Contact   4746 non-null   object\n",
      "dtypes: int64(4), object(8)\n",
      "memory usage: 445.1+ KB\n"
     ]
    }
   ],
   "source": [
    "data.info()"
   ]
  },
  {
   "cell_type": "markdown",
   "id": "c0e7c3d6",
   "metadata": {},
   "source": [
    "### Checking null values in dataset"
   ]
  },
  {
   "cell_type": "code",
   "execution_count": 5,
   "id": "f5b6391a",
   "metadata": {},
   "outputs": [
    {
     "data": {
      "text/plain": [
       "Posted On            0\n",
       "BHK                  0\n",
       "Rent                 0\n",
       "Size                 0\n",
       "Floor                0\n",
       "Area Type            0\n",
       "Area Locality        0\n",
       "City                 0\n",
       "Furnishing Status    0\n",
       "Tenant Preferred     0\n",
       "Bathroom             0\n",
       "Point of Contact     0\n",
       "dtype: int64"
      ]
     },
     "execution_count": 5,
     "metadata": {},
     "output_type": "execute_result"
    }
   ],
   "source": [
    "data.isnull().sum()"
   ]
  },
  {
   "cell_type": "code",
   "execution_count": 6,
   "id": "57cbf153",
   "metadata": {},
   "outputs": [],
   "source": [
    "# There is no null value present in the dataset"
   ]
  },
  {
   "cell_type": "markdown",
   "id": "12f31997",
   "metadata": {},
   "source": [
    "## Exploratory Data Analysis"
   ]
  },
  {
   "cell_type": "code",
   "execution_count": 7,
   "id": "afdf8a38",
   "metadata": {},
   "outputs": [
    {
     "data": {
      "image/png": "[encoded data removed]",
      "text/plain": [
       "<Figure size 432x288 with 1 Axes>"
      ]
     },
     "metadata": {
      "needs_background": "light"
     },
     "output_type": "display_data"
    }
   ],
   "source": [
    "sns.boxplot(x='BHK',y='Size',data=data)\n",
    "plt.show()"
   ]
  },
  {
   "cell_type": "code",
   "execution_count": 9,
   "id": "1eb4fd77",
   "metadata": {},
   "outputs": [
    {
     "data": {
      "image/png": "[encoded data removed]",
      "text/plain": [
       "<Figure size 720x576 with 6 Axes>"
      ]
     },
     "metadata": {
      "needs_background": "light"
     },
     "output_type": "display_data"
    }
   ],
   "source": [
    "fig, axs = plt.subplots(nrows=2,ncols=3,figsize=(10,8))\n",
    "sns.histplot(data=data[data['BHK']==1],x='Rent',ax=axs[0,0],kde=True,color='green')\n",
    "axs[0,0].set(xlabel='Rent BHK=1')\n",
    "\n",
    "sns.histplot(data=data[data['BHK']==2],x='Rent',ax=axs[0,1],kde=True,color='blue')\n",
    "axs[0,1].set(xlabel='Rent BHK=2')\n",
    "\n",
    "sns.histplot(data=data[data['BHK']==3],x='Rent',ax=axs[0,2],kde=True,color='orange')\n",
    "axs[0,2].set(xlabel='Rent BHK=3')\n",
    "\n",
    "sns.histplot(data=data[data['BHK']==4],x='Rent',ax=axs[1,0],kde=True,color='red')\n",
    "axs[1,0].set(xlabel='Rent BHK=4')\n",
    "\n",
    "sns.histplot(data=data[data['BHK']==5],x='Rent',ax=axs[1,1],kde=True,color='pink')\n",
    "axs[1,1].set(xlabel='Rent BHK=5')\n",
    "\n",
    "sns.histplot(data=data[data['BHK']==6],x='Rent',ax=axs[1,2],kde=True,color='beige')\n",
    "axs[1,2].set(xlabel='Rent BHK=6')\n",
    "\n",
    "plt.tight_layout()\n",
    "plt.show()"
   ]
  },
  {
   "cell_type": "code",
   "execution_count": 8,
   "id": "b63cd1e1",
   "metadata": {},
   "outputs": [
    {
     "data": {
      "text/plain": [
       "array(['Kolkata', 'Mumbai', 'Bangalore', 'Delhi', 'Chennai', 'Hyderabad'],\n",
       "      dtype=object)"
      ]
     },
     "execution_count": 8,
     "metadata": {},
     "output_type": "execute_result"
    }
   ],
   "source": [
    "data['City'].unique()"
   ]
  },
  {
   "cell_type": "code",
   "execution_count": 9,
   "id": "f7d4be1b",
   "metadata": {},
   "outputs": [
    {
     "name": "stderr",
     "output_type": "stream",
     "text": [
      "C:\\Users\\VIVEK KUMAR SINGH\\AppData\\Local\\Temp\\ipykernel_9332\\64392185.py:1: FutureWarning: The default value of numeric_only in DataFrameGroupBy.mean is deprecated. In a future version, numeric_only will default to False. Either specify numeric_only or select only columns which should be valid for the function.\n",
      "  s = data.groupby('City').mean()['Rent'].sort_values(ascending=False)\n"
     ]
    },
    {
     "data": {
      "text/plain": [
       "City\n",
       "Mumbai       85321.204733\n",
       "Delhi        29461.983471\n",
       "Bangalore    24966.365688\n",
       "Chennai      21614.092031\n",
       "Hyderabad    20555.048387\n",
       "Kolkata      11645.173664\n",
       "Name: Rent, dtype: float64"
      ]
     },
     "execution_count": 9,
     "metadata": {},
     "output_type": "execute_result"
    }
   ],
   "source": [
    "s = data.groupby('City').mean()['Rent'].sort_values(ascending=False)\n",
    "s"
   ]
  },
  {
   "cell_type": "code",
   "execution_count": null,
   "id": "57dd71d1",
   "metadata": {},
   "outputs": [],
   "source": [
    "# The houses of Mumbai seems to be more expansive and t.he houses of Kolkata seems to be least expansive."
   ]
  },
  {
   "cell_type": "code",
   "execution_count": 10,
   "id": "7ab2b431",
   "metadata": {},
   "outputs": [
    {
     "data": {
      "text/plain": [
       "<AxesSubplot:xlabel='City', ylabel='Rent'>"
      ]
     },
     "execution_count": 10,
     "metadata": {},
     "output_type": "execute_result"
    },
    {
     "data": {
      "image/png": "[encoded data removed]",
      "text/plain": [
       "<Figure size 432x288 with 1 Axes>"
      ]
     },
     "metadata": {
      "needs_background": "light"
     },
     "output_type": "display_data"
    }
   ],
   "source": [
    "sns.barplot(x='City',y='Rent',data = data)"
   ]
  },
  {
   "cell_type": "code",
   "execution_count": 10,
   "id": "ef0d33bf",
   "metadata": {},
   "outputs": [
    {
     "data": {
      "image/png": "[encoded data removed]",
      "text/plain": [
       "<Figure size 432x288 with 1 Axes>"
      ]
     },
     "metadata": {
      "needs_background": "light"
     },
     "output_type": "display_data"
    }
   ],
   "source": [
    "fig, ax=plt.subplots()\n",
    "sns.countplot(x='Area Type',data=data,ax=ax)\n",
    "ax.bar_label(ax.containers[0])\n",
    "plt.show()"
   ]
  },
  {
   "cell_type": "code",
   "execution_count": 11,
   "id": "4dd9a258",
   "metadata": {},
   "outputs": [
    {
     "data": {
      "image/png": "[encoded data removed]",
      "text/plain": [
       "<Figure size 432x288 with 1 Axes>"
      ]
     },
     "metadata": {
      "needs_background": "light"
     },
     "output_type": "display_data"
    }
   ],
   "source": [
    "sns.barplot(x='Area Type',y='Rent',data=data)\n",
    "plt.show()"
   ]
  },
  {
   "cell_type": "code",
   "execution_count": null,
   "id": "1d1dccfa",
   "metadata": {},
   "outputs": [],
   "source": [
    "# Variation of rent of different cities of India according to number of BHK"
   ]
  },
  {
   "cell_type": "code",
   "execution_count": 11,
   "id": "5550bc44",
   "metadata": {},
   "outputs": [
    {
     "name": "stderr",
     "output_type": "stream",
     "text": [
      "C:\\Users\\VIVEK KUMAR SINGH\\AppData\\Local\\Temp\\ipykernel_9332\\1237769797.py:1: FutureWarning: ['Posted On', 'Floor', 'Area Type', 'Area Locality', 'Furnishing Status', 'Tenant Preferred', 'Point of Contact'] did not aggregate successfully. If any error is raised this will raise in a future version of pandas. Drop these columns/ops to avoid this warning.\n",
      "  m = data.groupby(['City','BHK']).agg(['min','max','mean'])['Rent']\n"
     ]
    },
    {
     "data": {
      "text/html": [
       "<div>\n",
       "<style scoped>\n",
       "    .dataframe tbody tr th:only-of-type {\n",
       "        vertical-align: middle;\n",
       "    }\n",
       "\n",
       "    .dataframe tbody tr th {\n",
       "        vertical-align: top;\n",
       "    }\n",
       "\n",
       "    .dataframe thead th {\n",
       "        text-align: right;\n",
       "    }\n",
       "</style>\n",
       "<table border=\"1\" class=\"dataframe\">\n",
       "  <thead>\n",
       "    <tr style=\"text-align: right;\">\n",
       "      <th></th>\n",
       "      <th></th>\n",
       "      <th>min</th>\n",
       "      <th>max</th>\n",
       "      <th>mean</th>\n",
       "    </tr>\n",
       "    <tr>\n",
       "      <th>City</th>\n",
       "      <th>BHK</th>\n",
       "      <th></th>\n",
       "      <th></th>\n",
       "      <th></th>\n",
       "    </tr>\n",
       "  </thead>\n",
       "  <tbody>\n",
       "    <tr>\n",
       "      <th rowspan=\"4\" valign=\"top\">Bangalore</th>\n",
       "      <th>1</th>\n",
       "      <td>3500</td>\n",
       "      <td>70000</td>\n",
       "      <td>9368.333333</td>\n",
       "    </tr>\n",
       "    <tr>\n",
       "      <th>2</th>\n",
       "      <td>5000</td>\n",
       "      <td>90000</td>\n",
       "      <td>16122.041763</td>\n",
       "    </tr>\n",
       "    <tr>\n",
       "      <th>3</th>\n",
       "      <td>12000</td>\n",
       "      <td>3500000</td>\n",
       "      <td>61988.580247</td>\n",
       "    </tr>\n",
       "    <tr>\n",
       "      <th>4</th>\n",
       "      <td>14000</td>\n",
       "      <td>380000</td>\n",
       "      <td>113043.478261</td>\n",
       "    </tr>\n",
       "    <tr>\n",
       "      <th rowspan=\"6\" valign=\"top\">Chennai</th>\n",
       "      <th>1</th>\n",
       "      <td>3000</td>\n",
       "      <td>21000</td>\n",
       "      <td>8455.926380</td>\n",
       "    </tr>\n",
       "    <tr>\n",
       "      <th>2</th>\n",
       "      <td>5000</td>\n",
       "      <td>600000</td>\n",
       "      <td>15701.692149</td>\n",
       "    </tr>\n",
       "    <tr>\n",
       "      <th>3</th>\n",
       "      <td>7000</td>\n",
       "      <td>330000</td>\n",
       "      <td>35741.913636</td>\n",
       "    </tr>\n",
       "    <tr>\n",
       "      <th>4</th>\n",
       "      <td>20000</td>\n",
       "      <td>250000</td>\n",
       "      <td>96350.000000</td>\n",
       "    </tr>\n",
       "    <tr>\n",
       "      <th>5</th>\n",
       "      <td>50000</td>\n",
       "      <td>100000</td>\n",
       "      <td>75000.000000</td>\n",
       "    </tr>\n",
       "    <tr>\n",
       "      <th>6</th>\n",
       "      <td>60000</td>\n",
       "      <td>280000</td>\n",
       "      <td>170000.000000</td>\n",
       "    </tr>\n",
       "    <tr>\n",
       "      <th rowspan=\"5\" valign=\"top\">Delhi</th>\n",
       "      <th>1</th>\n",
       "      <td>3500</td>\n",
       "      <td>35000</td>\n",
       "      <td>11332.500000</td>\n",
       "    </tr>\n",
       "    <tr>\n",
       "      <th>2</th>\n",
       "      <td>2000</td>\n",
       "      <td>150000</td>\n",
       "      <td>18878.342520</td>\n",
       "    </tr>\n",
       "    <tr>\n",
       "      <th>3</th>\n",
       "      <td>8000</td>\n",
       "      <td>350000</td>\n",
       "      <td>44141.558442</td>\n",
       "    </tr>\n",
       "    <tr>\n",
       "      <th>4</th>\n",
       "      <td>15000</td>\n",
       "      <td>530000</td>\n",
       "      <td>117455.583333</td>\n",
       "    </tr>\n",
       "    <tr>\n",
       "      <th>5</th>\n",
       "      <td>190000</td>\n",
       "      <td>190000</td>\n",
       "      <td>190000.000000</td>\n",
       "    </tr>\n",
       "    <tr>\n",
       "      <th rowspan=\"6\" valign=\"top\">Hyderabad</th>\n",
       "      <th>1</th>\n",
       "      <td>3000</td>\n",
       "      <td>200000</td>\n",
       "      <td>9753.793103</td>\n",
       "    </tr>\n",
       "    <tr>\n",
       "      <th>2</th>\n",
       "      <td>5000</td>\n",
       "      <td>130000</td>\n",
       "      <td>13877.652466</td>\n",
       "    </tr>\n",
       "    <tr>\n",
       "      <th>3</th>\n",
       "      <td>1200</td>\n",
       "      <td>130000</td>\n",
       "      <td>29337.650206</td>\n",
       "    </tr>\n",
       "    <tr>\n",
       "      <th>4</th>\n",
       "      <td>10000</td>\n",
       "      <td>400000</td>\n",
       "      <td>95730.769231</td>\n",
       "    </tr>\n",
       "    <tr>\n",
       "      <th>5</th>\n",
       "      <td>45000</td>\n",
       "      <td>300000</td>\n",
       "      <td>131666.666667</td>\n",
       "    </tr>\n",
       "    <tr>\n",
       "      <th>6</th>\n",
       "      <td>20000</td>\n",
       "      <td>80000</td>\n",
       "      <td>45000.000000</td>\n",
       "    </tr>\n",
       "    <tr>\n",
       "      <th rowspan=\"6\" valign=\"top\">Kolkata</th>\n",
       "      <th>1</th>\n",
       "      <td>1500</td>\n",
       "      <td>50000</td>\n",
       "      <td>6897.183099</td>\n",
       "    </tr>\n",
       "    <tr>\n",
       "      <th>2</th>\n",
       "      <td>2200</td>\n",
       "      <td>180000</td>\n",
       "      <td>10687.847826</td>\n",
       "    </tr>\n",
       "    <tr>\n",
       "      <th>3</th>\n",
       "      <td>3200</td>\n",
       "      <td>65000</td>\n",
       "      <td>19666.576087</td>\n",
       "    </tr>\n",
       "    <tr>\n",
       "      <th>4</th>\n",
       "      <td>10000</td>\n",
       "      <td>40000</td>\n",
       "      <td>26909.090909</td>\n",
       "    </tr>\n",
       "    <tr>\n",
       "      <th>5</th>\n",
       "      <td>22500</td>\n",
       "      <td>25000</td>\n",
       "      <td>23750.000000</td>\n",
       "    </tr>\n",
       "    <tr>\n",
       "      <th>6</th>\n",
       "      <td>20000</td>\n",
       "      <td>20000</td>\n",
       "      <td>20000.000000</td>\n",
       "    </tr>\n",
       "    <tr>\n",
       "      <th rowspan=\"5\" valign=\"top\">Mumbai</th>\n",
       "      <th>1</th>\n",
       "      <td>4500</td>\n",
       "      <td>100000</td>\n",
       "      <td>29218.843206</td>\n",
       "    </tr>\n",
       "    <tr>\n",
       "      <th>2</th>\n",
       "      <td>6500</td>\n",
       "      <td>250000</td>\n",
       "      <td>57768.195187</td>\n",
       "    </tr>\n",
       "    <tr>\n",
       "      <th>3</th>\n",
       "      <td>15000</td>\n",
       "      <td>400000</td>\n",
       "      <td>122009.242291</td>\n",
       "    </tr>\n",
       "    <tr>\n",
       "      <th>4</th>\n",
       "      <td>45000</td>\n",
       "      <td>1200000</td>\n",
       "      <td>279109.589041</td>\n",
       "    </tr>\n",
       "    <tr>\n",
       "      <th>5</th>\n",
       "      <td>300000</td>\n",
       "      <td>650000</td>\n",
       "      <td>442727.272727</td>\n",
       "    </tr>\n",
       "  </tbody>\n",
       "</table>\n",
       "</div>"
      ],
      "text/plain": [
       "                  min      max           mean\n",
       "City      BHK                                \n",
       "Bangalore 1      3500    70000    9368.333333\n",
       "          2      5000    90000   16122.041763\n",
       "          3     12000  3500000   61988.580247\n",
       "          4     14000   380000  113043.478261\n",
       "Chennai   1      3000    21000    8455.926380\n",
       "          2      5000   600000   15701.692149\n",
       "          3      7000   330000   35741.913636\n",
       "          4     20000   250000   96350.000000\n",
       "          5     50000   100000   75000.000000\n",
       "          6     60000   280000  170000.000000\n",
       "Delhi     1      3500    35000   11332.500000\n",
       "          2      2000   150000   18878.342520\n",
       "          3      8000   350000   44141.558442\n",
       "          4     15000   530000  117455.583333\n",
       "          5    190000   190000  190000.000000\n",
       "Hyderabad 1      3000   200000    9753.793103\n",
       "          2      5000   130000   13877.652466\n",
       "          3      1200   130000   29337.650206\n",
       "          4     10000   400000   95730.769231\n",
       "          5     45000   300000  131666.666667\n",
       "          6     20000    80000   45000.000000\n",
       "Kolkata   1      1500    50000    6897.183099\n",
       "          2      2200   180000   10687.847826\n",
       "          3      3200    65000   19666.576087\n",
       "          4     10000    40000   26909.090909\n",
       "          5     22500    25000   23750.000000\n",
       "          6     20000    20000   20000.000000\n",
       "Mumbai    1      4500   100000   29218.843206\n",
       "          2      6500   250000   57768.195187\n",
       "          3     15000   400000  122009.242291\n",
       "          4     45000  1200000  279109.589041\n",
       "          5    300000   650000  442727.272727"
      ]
     },
     "execution_count": 11,
     "metadata": {},
     "output_type": "execute_result"
    }
   ],
   "source": [
    "m = data.groupby(['City','BHK']).agg(['min','max','mean'])['Rent']\n",
    "m"
   ]
  },
  {
   "cell_type": "code",
   "execution_count": 12,
   "id": "47cb25ce",
   "metadata": {},
   "outputs": [
    {
     "data": {
      "text/html": [
       "<div>\n",
       "<style scoped>\n",
       "    .dataframe tbody tr th:only-of-type {\n",
       "        vertical-align: middle;\n",
       "    }\n",
       "\n",
       "    .dataframe tbody tr th {\n",
       "        vertical-align: top;\n",
       "    }\n",
       "\n",
       "    .dataframe thead th {\n",
       "        text-align: right;\n",
       "    }\n",
       "</style>\n",
       "<table border=\"1\" class=\"dataframe\">\n",
       "  <thead>\n",
       "    <tr style=\"text-align: right;\">\n",
       "      <th></th>\n",
       "      <th>Posted On</th>\n",
       "      <th>BHK</th>\n",
       "      <th>Rent</th>\n",
       "      <th>Size</th>\n",
       "      <th>Floor</th>\n",
       "      <th>Area Type</th>\n",
       "      <th>Area Locality</th>\n",
       "      <th>City</th>\n",
       "      <th>Furnishing Status</th>\n",
       "      <th>Tenant Preferred</th>\n",
       "      <th>Bathroom</th>\n",
       "      <th>Point of Contact</th>\n",
       "    </tr>\n",
       "  </thead>\n",
       "  <tbody>\n",
       "    <tr>\n",
       "      <th>1496</th>\n",
       "      <td>2022-06-30</td>\n",
       "      <td>3</td>\n",
       "      <td>70000</td>\n",
       "      <td>3354</td>\n",
       "      <td>Ground out of 16</td>\n",
       "      <td>Carpet Area</td>\n",
       "      <td>Talagatta Pura</td>\n",
       "      <td>Bangalore</td>\n",
       "      <td>Furnished</td>\n",
       "      <td>Bachelors/Family</td>\n",
       "      <td>3</td>\n",
       "      <td>Contact Agent</td>\n",
       "    </tr>\n",
       "    <tr>\n",
       "      <th>1497</th>\n",
       "      <td>2022-06-23</td>\n",
       "      <td>2</td>\n",
       "      <td>10500</td>\n",
       "      <td>800</td>\n",
       "      <td>3 out of 4</td>\n",
       "      <td>Super Area</td>\n",
       "      <td>Nagappa Reddy layout-Dooravani Nagar</td>\n",
       "      <td>Bangalore</td>\n",
       "      <td>Semi-Furnished</td>\n",
       "      <td>Bachelors/Family</td>\n",
       "      <td>2</td>\n",
       "      <td>Contact Owner</td>\n",
       "    </tr>\n",
       "    <tr>\n",
       "      <th>1498</th>\n",
       "      <td>2022-07-04</td>\n",
       "      <td>2</td>\n",
       "      <td>13000</td>\n",
       "      <td>1000</td>\n",
       "      <td>Ground out of 4</td>\n",
       "      <td>Super Area</td>\n",
       "      <td>Kattigenahalli, Bellary Road</td>\n",
       "      <td>Bangalore</td>\n",
       "      <td>Semi-Furnished</td>\n",
       "      <td>Bachelors/Family</td>\n",
       "      <td>2</td>\n",
       "      <td>Contact Owner</td>\n",
       "    </tr>\n",
       "    <tr>\n",
       "      <th>1499</th>\n",
       "      <td>2022-06-04</td>\n",
       "      <td>2</td>\n",
       "      <td>17000</td>\n",
       "      <td>1040</td>\n",
       "      <td>4 out of 4</td>\n",
       "      <td>Super Area</td>\n",
       "      <td>C V Raman Nagar</td>\n",
       "      <td>Bangalore</td>\n",
       "      <td>Furnished</td>\n",
       "      <td>Bachelors/Family</td>\n",
       "      <td>2</td>\n",
       "      <td>Contact Owner</td>\n",
       "    </tr>\n",
       "    <tr>\n",
       "      <th>1500</th>\n",
       "      <td>2022-06-04</td>\n",
       "      <td>3</td>\n",
       "      <td>21000</td>\n",
       "      <td>1403</td>\n",
       "      <td>1 out of 4</td>\n",
       "      <td>Super Area</td>\n",
       "      <td>Chikkalasandra, Bangalore</td>\n",
       "      <td>Bangalore</td>\n",
       "      <td>Semi-Furnished</td>\n",
       "      <td>Bachelors/Family</td>\n",
       "      <td>3</td>\n",
       "      <td>Contact Owner</td>\n",
       "    </tr>\n",
       "    <tr>\n",
       "      <th>...</th>\n",
       "      <td>...</td>\n",
       "      <td>...</td>\n",
       "      <td>...</td>\n",
       "      <td>...</td>\n",
       "      <td>...</td>\n",
       "      <td>...</td>\n",
       "      <td>...</td>\n",
       "      <td>...</td>\n",
       "      <td>...</td>\n",
       "      <td>...</td>\n",
       "      <td>...</td>\n",
       "      <td>...</td>\n",
       "    </tr>\n",
       "    <tr>\n",
       "      <th>2377</th>\n",
       "      <td>2022-05-23</td>\n",
       "      <td>1</td>\n",
       "      <td>8000</td>\n",
       "      <td>500</td>\n",
       "      <td>2 out of 2</td>\n",
       "      <td>Super Area</td>\n",
       "      <td>Frazer Town</td>\n",
       "      <td>Bangalore</td>\n",
       "      <td>Furnished</td>\n",
       "      <td>Bachelors/Family</td>\n",
       "      <td>1</td>\n",
       "      <td>Contact Owner</td>\n",
       "    </tr>\n",
       "    <tr>\n",
       "      <th>2378</th>\n",
       "      <td>2022-05-23</td>\n",
       "      <td>2</td>\n",
       "      <td>11000</td>\n",
       "      <td>1200</td>\n",
       "      <td>Ground out of 2</td>\n",
       "      <td>Super Area</td>\n",
       "      <td>Kadugondanahalli, Kadugondanahalli</td>\n",
       "      <td>Bangalore</td>\n",
       "      <td>Unfurnished</td>\n",
       "      <td>Bachelors/Family</td>\n",
       "      <td>2</td>\n",
       "      <td>Contact Owner</td>\n",
       "    </tr>\n",
       "    <tr>\n",
       "      <th>2379</th>\n",
       "      <td>2022-06-08</td>\n",
       "      <td>1</td>\n",
       "      <td>8000</td>\n",
       "      <td>750</td>\n",
       "      <td>1 out of 3</td>\n",
       "      <td>Super Area</td>\n",
       "      <td>Prakruthi Township, Hennur</td>\n",
       "      <td>Bangalore</td>\n",
       "      <td>Unfurnished</td>\n",
       "      <td>Bachelors/Family</td>\n",
       "      <td>1</td>\n",
       "      <td>Contact Owner</td>\n",
       "    </tr>\n",
       "    <tr>\n",
       "      <th>2380</th>\n",
       "      <td>2022-06-29</td>\n",
       "      <td>1</td>\n",
       "      <td>13000</td>\n",
       "      <td>700</td>\n",
       "      <td>1 out of 5</td>\n",
       "      <td>Super Area</td>\n",
       "      <td>GH Society</td>\n",
       "      <td>Bangalore</td>\n",
       "      <td>Semi-Furnished</td>\n",
       "      <td>Bachelors/Family</td>\n",
       "      <td>2</td>\n",
       "      <td>Contact Owner</td>\n",
       "    </tr>\n",
       "    <tr>\n",
       "      <th>2381</th>\n",
       "      <td>2022-06-20</td>\n",
       "      <td>2</td>\n",
       "      <td>30000</td>\n",
       "      <td>1000</td>\n",
       "      <td>12 out of 23</td>\n",
       "      <td>Carpet Area</td>\n",
       "      <td>Yeshwantpur</td>\n",
       "      <td>Bangalore</td>\n",
       "      <td>Unfurnished</td>\n",
       "      <td>Bachelors</td>\n",
       "      <td>2</td>\n",
       "      <td>Contact Agent</td>\n",
       "    </tr>\n",
       "  </tbody>\n",
       "</table>\n",
       "<p>886 rows × 12 columns</p>\n",
       "</div>"
      ],
      "text/plain": [
       "       Posted On  BHK   Rent  Size             Floor    Area Type  \\\n",
       "1496  2022-06-30    3  70000  3354  Ground out of 16  Carpet Area   \n",
       "1497  2022-06-23    2  10500   800        3 out of 4   Super Area   \n",
       "1498  2022-07-04    2  13000  1000   Ground out of 4   Super Area   \n",
       "1499  2022-06-04    2  17000  1040        4 out of 4   Super Area   \n",
       "1500  2022-06-04    3  21000  1403        1 out of 4   Super Area   \n",
       "...          ...  ...    ...   ...               ...          ...   \n",
       "2377  2022-05-23    1   8000   500        2 out of 2   Super Area   \n",
       "2378  2022-05-23    2  11000  1200   Ground out of 2   Super Area   \n",
       "2379  2022-06-08    1   8000   750        1 out of 3   Super Area   \n",
       "2380  2022-06-29    1  13000   700        1 out of 5   Super Area   \n",
       "2381  2022-06-20    2  30000  1000      12 out of 23  Carpet Area   \n",
       "\n",
       "                             Area Locality       City Furnishing Status  \\\n",
       "1496                        Talagatta Pura  Bangalore         Furnished   \n",
       "1497  Nagappa Reddy layout-Dooravani Nagar  Bangalore    Semi-Furnished   \n",
       "1498          Kattigenahalli, Bellary Road  Bangalore    Semi-Furnished   \n",
       "1499                       C V Raman Nagar  Bangalore         Furnished   \n",
       "1500             Chikkalasandra, Bangalore  Bangalore    Semi-Furnished   \n",
       "...                                    ...        ...               ...   \n",
       "2377                           Frazer Town  Bangalore         Furnished   \n",
       "2378    Kadugondanahalli, Kadugondanahalli  Bangalore       Unfurnished   \n",
       "2379            Prakruthi Township, Hennur  Bangalore       Unfurnished   \n",
       "2380                            GH Society  Bangalore    Semi-Furnished   \n",
       "2381                           Yeshwantpur  Bangalore       Unfurnished   \n",
       "\n",
       "      Tenant Preferred  Bathroom Point of Contact  \n",
       "1496  Bachelors/Family         3    Contact Agent  \n",
       "1497  Bachelors/Family         2    Contact Owner  \n",
       "1498  Bachelors/Family         2    Contact Owner  \n",
       "1499  Bachelors/Family         2    Contact Owner  \n",
       "1500  Bachelors/Family         3    Contact Owner  \n",
       "...                ...       ...              ...  \n",
       "2377  Bachelors/Family         1    Contact Owner  \n",
       "2378  Bachelors/Family         2    Contact Owner  \n",
       "2379  Bachelors/Family         1    Contact Owner  \n",
       "2380  Bachelors/Family         2    Contact Owner  \n",
       "2381         Bachelors         2    Contact Agent  \n",
       "\n",
       "[886 rows x 12 columns]"
      ]
     },
     "execution_count": 12,
     "metadata": {},
     "output_type": "execute_result"
    }
   ],
   "source": [
    "# Extracting data for Bangalore city\n",
    "l = data[data['City']=='Bangalore']\n",
    "l"
   ]
  },
  {
   "cell_type": "code",
   "execution_count": 13,
   "id": "34c812d4",
   "metadata": {},
   "outputs": [
    {
     "name": "stderr",
     "output_type": "stream",
     "text": [
      "C:\\Users\\VIVEK KUMAR SINGH\\AppData\\Local\\Temp\\ipykernel_9332\\141302160.py:1: FutureWarning: The default value of numeric_only in DataFrameGroupBy.mean is deprecated. In a future version, numeric_only will default to False. Either specify numeric_only or select only columns which should be valid for the function.\n",
      "  l.groupby('BHK').mean()['Rent'].sort_values(ascending=False)\n"
     ]
    },
    {
     "data": {
      "text/plain": [
       "BHK\n",
       "4    113043.478261\n",
       "3     61988.580247\n",
       "2     16122.041763\n",
       "1      9368.333333\n",
       "Name: Rent, dtype: float64"
      ]
     },
     "execution_count": 13,
     "metadata": {},
     "output_type": "execute_result"
    }
   ],
   "source": [
    "l.groupby('BHK').mean()['Rent'].sort_values(ascending=False)\n"
   ]
  },
  {
   "cell_type": "code",
   "execution_count": null,
   "id": "4e68b2a5",
   "metadata": {},
   "outputs": [],
   "source": [
    "# As expected Rent of house increases with the number of BHK."
   ]
  },
  {
   "cell_type": "code",
   "execution_count": 14,
   "id": "80974a62",
   "metadata": {},
   "outputs": [
    {
     "data": {
      "text/plain": [
       "<AxesSubplot:xlabel='BHK', ylabel='Rent'>"
      ]
     },
     "execution_count": 14,
     "metadata": {},
     "output_type": "execute_result"
    },
    {
     "data": {
      "image/png": "[encoded data removed]",
      "text/plain": [
       "<Figure size 432x288 with 1 Axes>"
      ]
     },
     "metadata": {
      "needs_background": "light"
     },
     "output_type": "display_data"
    }
   ],
   "source": [
    "sns.barplot(x='BHK',y='Rent',data = data[data['City']=='Bangalore'])"
   ]
  },
  {
   "cell_type": "code",
   "execution_count": null,
   "id": "7f0f5769",
   "metadata": {},
   "outputs": [],
   "source": [
    "# Analysing variation of rent for Chennai city"
   ]
  },
  {
   "cell_type": "code",
   "execution_count": 15,
   "id": "4f03ff20",
   "metadata": {},
   "outputs": [
    {
     "data": {
      "text/plain": [
       "<AxesSubplot:xlabel='BHK', ylabel='Rent'>"
      ]
     },
     "execution_count": 15,
     "metadata": {},
     "output_type": "execute_result"
    },
    {
     "data": {
      "image/png": "[encoded data removed]",
      "text/plain": [
       "<Figure size 432x288 with 1 Axes>"
      ]
     },
     "metadata": {
      "needs_background": "light"
     },
     "output_type": "display_data"
    }
   ],
   "source": [
    "sns.barplot(x='BHK',y='Rent',data = data[data['City']=='Chennai'])"
   ]
  },
  {
   "cell_type": "code",
   "execution_count": null,
   "id": "4a18f059",
   "metadata": {},
   "outputs": [],
   "source": [
    "# Analysing variation of rent for Delhi city"
   ]
  },
  {
   "cell_type": "code",
   "execution_count": 16,
   "id": "d911bb88",
   "metadata": {},
   "outputs": [
    {
     "data": {
      "text/plain": [
       "<AxesSubplot:xlabel='BHK', ylabel='Rent'>"
      ]
     },
     "execution_count": 16,
     "metadata": {},
     "output_type": "execute_result"
    },
    {
     "data": {
      "image/png": "[encoded data removed]",
      "text/plain": [
       "<Figure size 432x288 with 1 Axes>"
      ]
     },
     "metadata": {
      "needs_background": "light"
     },
     "output_type": "display_data"
    }
   ],
   "source": [
    "sns.barplot(x='BHK',y='Rent',data = data[data['City']=='Delhi'])"
   ]
  },
  {
   "cell_type": "code",
   "execution_count": null,
   "id": "8204128a",
   "metadata": {},
   "outputs": [],
   "source": [
    "# Analysing variation of rent for Hyderabad city"
   ]
  },
  {
   "cell_type": "code",
   "execution_count": 17,
   "id": "25b69dcd",
   "metadata": {},
   "outputs": [
    {
     "data": {
      "text/plain": [
       "<AxesSubplot:xlabel='BHK', ylabel='Rent'>"
      ]
     },
     "execution_count": 17,
     "metadata": {},
     "output_type": "execute_result"
    },
    {
     "data": {
      "image/png": "[encoded data removed]",
      "text/plain": [
       "<Figure size 432x288 with 1 Axes>"
      ]
     },
     "metadata": {
      "needs_background": "light"
     },
     "output_type": "display_data"
    }
   ],
   "source": [
    "sns.barplot(x='BHK',y='Rent',data = data[data['City']=='Hyderabad'])"
   ]
  },
  {
   "cell_type": "code",
   "execution_count": null,
   "id": "c7735050",
   "metadata": {},
   "outputs": [],
   "source": [
    "# Analysing variation of rent for Kolkata city"
   ]
  },
  {
   "cell_type": "code",
   "execution_count": 18,
   "id": "b96fa884",
   "metadata": {},
   "outputs": [
    {
     "data": {
      "text/plain": [
       "<AxesSubplot:xlabel='BHK', ylabel='Rent'>"
      ]
     },
     "execution_count": 18,
     "metadata": {},
     "output_type": "execute_result"
    },
    {
     "data": {
      "image/png": "[encoded data removed]",
      "text/plain": [
       "<Figure size 432x288 with 1 Axes>"
      ]
     },
     "metadata": {
      "needs_background": "light"
     },
     "output_type": "display_data"
    }
   ],
   "source": [
    "sns.barplot(x='BHK',y='Rent',data = data[data['City']=='Kolkata'])"
   ]
  },
  {
   "cell_type": "code",
   "execution_count": null,
   "id": "cb3b739d",
   "metadata": {},
   "outputs": [],
   "source": [
    "# Analysing variation of rent for Mumbai city"
   ]
  },
  {
   "cell_type": "code",
   "execution_count": 19,
   "id": "95dfafc9",
   "metadata": {},
   "outputs": [
    {
     "data": {
      "text/plain": [
       "<AxesSubplot:xlabel='BHK', ylabel='Rent'>"
      ]
     },
     "execution_count": 19,
     "metadata": {},
     "output_type": "execute_result"
    },
    {
     "data": {
      "image/png": "[encoded data removed]",
      "text/plain": [
       "<Figure size 432x288 with 1 Axes>"
      ]
     },
     "metadata": {
      "needs_background": "light"
     },
     "output_type": "display_data"
    }
   ],
   "source": [
    "sns.barplot(x='BHK',y='Rent',data = data[data['City']=='Mumbai'])"
   ]
  },
  {
   "cell_type": "code",
   "execution_count": null,
   "id": "14acf127",
   "metadata": {},
   "outputs": [],
   "source": [
    "# Analysing variation of Area Type for Mumbai city"
   ]
  },
  {
   "cell_type": "code",
   "execution_count": 20,
   "id": "0ee19a93",
   "metadata": {},
   "outputs": [
    {
     "data": {
      "text/plain": [
       "<AxesSubplot:xlabel='Area Type', ylabel='Rent'>"
      ]
     },
     "execution_count": 20,
     "metadata": {},
     "output_type": "execute_result"
    },
    {
     "data": {
      "image/png": "[encoded data removed]",
      "text/plain": [
       "<Figure size 432x288 with 1 Axes>"
      ]
     },
     "metadata": {
      "needs_background": "light"
     },
     "output_type": "display_data"
    }
   ],
   "source": [
    "sns.barplot(x='Area Type',y='Rent',data = data[data['City']=='Mumbai'])"
   ]
  },
  {
   "cell_type": "code",
   "execution_count": null,
   "id": "30f80da1",
   "metadata": {},
   "outputs": [],
   "source": [
    "# Analysing variation of Area Type for Kolkata city"
   ]
  },
  {
   "cell_type": "code",
   "execution_count": 21,
   "id": "8fccd010",
   "metadata": {},
   "outputs": [
    {
     "data": {
      "text/plain": [
       "<AxesSubplot:xlabel='Area Type', ylabel='Rent'>"
      ]
     },
     "execution_count": 21,
     "metadata": {},
     "output_type": "execute_result"
    },
    {
     "data": {
      "image/png": "[encoded data removed]",
      "text/plain": [
       "<Figure size 432x288 with 1 Axes>"
      ]
     },
     "metadata": {
      "needs_background": "light"
     },
     "output_type": "display_data"
    }
   ],
   "source": [
    "sns.barplot(x='Area Type',y='Rent',data = data[data['City']=='Kolkata'])"
   ]
  },
  {
   "cell_type": "code",
   "execution_count": null,
   "id": "68565542",
   "metadata": {},
   "outputs": [],
   "source": [
    "# Analysing variation of Area Type for Hyderabad city"
   ]
  },
  {
   "cell_type": "code",
   "execution_count": 22,
   "id": "3e9763ef",
   "metadata": {},
   "outputs": [
    {
     "data": {
      "text/plain": [
       "<AxesSubplot:xlabel='Area Type', ylabel='Rent'>"
      ]
     },
     "execution_count": 22,
     "metadata": {},
     "output_type": "execute_result"
    },
    {
     "data": {
      "image/png": "[encoded data removed]",
      "text/plain": [
       "<Figure size 432x288 with 1 Axes>"
      ]
     },
     "metadata": {
      "needs_background": "light"
     },
     "output_type": "display_data"
    }
   ],
   "source": [
    "sns.barplot(x='Area Type',y='Rent',data = data[data['City']=='Hyderabad'])"
   ]
  },
  {
   "cell_type": "code",
   "execution_count": null,
   "id": "ae308508",
   "metadata": {},
   "outputs": [],
   "source": [
    "# Analysing variation of Area Type for Delhi city"
   ]
  },
  {
   "cell_type": "code",
   "execution_count": 23,
   "id": "14491558",
   "metadata": {},
   "outputs": [
    {
     "data": {
      "text/plain": [
       "<AxesSubplot:xlabel='Area Type', ylabel='Rent'>"
      ]
     },
     "execution_count": 23,
     "metadata": {},
     "output_type": "execute_result"
    },
    {
     "data": {
      "image/png": "[encoded data removed]",
      "text/plain": [
       "<Figure size 432x288 with 1 Axes>"
      ]
     },
     "metadata": {
      "needs_background": "light"
     },
     "output_type": "display_data"
    }
   ],
   "source": [
    "sns.barplot(x='Area Type',y='Rent',data = data[data['City']=='Delhi'])"
   ]
  },
  {
   "cell_type": "code",
   "execution_count": null,
   "id": "fc4df84f",
   "metadata": {},
   "outputs": [],
   "source": [
    "# Analysing variation of Area Type for Chennai city"
   ]
  },
  {
   "cell_type": "code",
   "execution_count": 24,
   "id": "8510b5aa",
   "metadata": {},
   "outputs": [
    {
     "data": {
      "text/plain": [
       "<AxesSubplot:xlabel='Area Type', ylabel='Rent'>"
      ]
     },
     "execution_count": 24,
     "metadata": {},
     "output_type": "execute_result"
    },
    {
     "data": {
      "image/png": "[encoded data removed]",
      "text/plain": [
       "<Figure size 432x288 with 1 Axes>"
      ]
     },
     "metadata": {
      "needs_background": "light"
     },
     "output_type": "display_data"
    }
   ],
   "source": [
    "sns.barplot(x='Area Type',y='Rent',data = data[data['City']=='Chennai'])"
   ]
  },
  {
   "cell_type": "code",
   "execution_count": null,
   "id": "3596d9e4",
   "metadata": {},
   "outputs": [],
   "source": [
    "# Analysing variation of Area Type for Bangalore city"
   ]
  },
  {
   "cell_type": "code",
   "execution_count": 25,
   "id": "3b1df55e",
   "metadata": {},
   "outputs": [
    {
     "data": {
      "text/plain": [
       "<AxesSubplot:xlabel='Area Type', ylabel='Rent'>"
      ]
     },
     "execution_count": 25,
     "metadata": {},
     "output_type": "execute_result"
    },
    {
     "data": {
      "image/png": "[encoded data removed]",
      "text/plain": [
       "<Figure size 432x288 with 1 Axes>"
      ]
     },
     "metadata": {
      "needs_background": "light"
     },
     "output_type": "display_data"
    }
   ],
   "source": [
    "sns.barplot(x='Area Type',y='Rent',data = data[data['City']=='Bangalore'])"
   ]
  },
  {
   "cell_type": "code",
   "execution_count": 26,
   "id": "e10e8d4d",
   "metadata": {},
   "outputs": [
    {
     "data": {
      "text/plain": [
       "<AxesSubplot:xlabel='Area Type', ylabel='Rent'>"
      ]
     },
     "execution_count": 26,
     "metadata": {},
     "output_type": "execute_result"
    },
    {
     "data": {
      "image/png": "[encoded data removed]",
      "text/plain": [
       "<Figure size 432x288 with 1 Axes>"
      ]
     },
     "metadata": {
      "needs_background": "light"
     },
     "output_type": "display_data"
    }
   ],
   "source": [
    "sns.barplot(x='Area Type',y='Rent',data = data)"
   ]
  },
  {
   "cell_type": "code",
   "execution_count": null,
   "id": "86cef84f",
   "metadata": {},
   "outputs": [],
   "source": [
    "# The houses with Carpet Area Type is more favoured."
   ]
  },
  {
   "cell_type": "code",
   "execution_count": null,
   "id": "659d9daf",
   "metadata": {},
   "outputs": [],
   "source": [
    "# Analysing variation of Tenant Preferred for Mumbai city"
   ]
  },
  {
   "cell_type": "code",
   "execution_count": 27,
   "id": "9d696efb",
   "metadata": {},
   "outputs": [
    {
     "data": {
      "text/plain": [
       "<AxesSubplot:xlabel='Tenant Preferred', ylabel='Rent'>"
      ]
     },
     "execution_count": 27,
     "metadata": {},
     "output_type": "execute_result"
    },
    {
     "data": {
      "image/png": "[encoded data removed]",
      "text/plain": [
       "<Figure size 432x288 with 1 Axes>"
      ]
     },
     "metadata": {
      "needs_background": "light"
     },
     "output_type": "display_data"
    }
   ],
   "source": [
    "sns.barplot(x='Tenant Preferred',y='Rent',data = data[data['City']=='Mumbai'])"
   ]
  },
  {
   "cell_type": "code",
   "execution_count": null,
   "id": "54653ccd",
   "metadata": {},
   "outputs": [],
   "source": [
    "# Analysing variation of Tenant Preferred for Delhi city"
   ]
  },
  {
   "cell_type": "code",
   "execution_count": 28,
   "id": "d07356ef",
   "metadata": {},
   "outputs": [
    {
     "data": {
      "text/plain": [
       "<AxesSubplot:xlabel='Tenant Preferred', ylabel='Rent'>"
      ]
     },
     "execution_count": 28,
     "metadata": {},
     "output_type": "execute_result"
    },
    {
     "data": {
      "image/png": "[encoded data removed]",
      "text/plain": [
       "<Figure size 432x288 with 1 Axes>"
      ]
     },
     "metadata": {
      "needs_background": "light"
     },
     "output_type": "display_data"
    }
   ],
   "source": [
    "sns.barplot(x='Tenant Preferred',y='Rent',data = data[data['City']=='Delhi'])"
   ]
  },
  {
   "cell_type": "code",
   "execution_count": null,
   "id": "530bacb9",
   "metadata": {},
   "outputs": [],
   "source": [
    "# Analysing variation of Tenant Preferred for Hyderabad city"
   ]
  },
  {
   "cell_type": "code",
   "execution_count": 29,
   "id": "768d85a3",
   "metadata": {},
   "outputs": [
    {
     "data": {
      "text/plain": [
       "<AxesSubplot:xlabel='Tenant Preferred', ylabel='Rent'>"
      ]
     },
     "execution_count": 29,
     "metadata": {},
     "output_type": "execute_result"
    },
    {
     "data": {
      "image/png": "[encoded data removed]",
      "text/plain": [
       "<Figure size 432x288 with 1 Axes>"
      ]
     },
     "metadata": {
      "needs_background": "light"
     },
     "output_type": "display_data"
    }
   ],
   "source": [
    "sns.barplot(x='Tenant Preferred',y='Rent',data = data[data['City']=='Hyderabad'])"
   ]
  },
  {
   "cell_type": "code",
   "execution_count": null,
   "id": "05e634cd",
   "metadata": {},
   "outputs": [],
   "source": [
    "# Analysing variation of Tenant Preferred for Chennai city"
   ]
  },
  {
   "cell_type": "code",
   "execution_count": 30,
   "id": "153e1251",
   "metadata": {},
   "outputs": [
    {
     "data": {
      "text/plain": [
       "<AxesSubplot:xlabel='Tenant Preferred', ylabel='Rent'>"
      ]
     },
     "execution_count": 30,
     "metadata": {},
     "output_type": "execute_result"
    },
    {
     "data": {
      "image/png": "[encoded data removed]",
      "text/plain": [
       "<Figure size 432x288 with 1 Axes>"
      ]
     },
     "metadata": {
      "needs_background": "light"
     },
     "output_type": "display_data"
    }
   ],
   "source": [
    "sns.barplot(x='Tenant Preferred',y='Rent',data = data[data['City']=='Chennai'])"
   ]
  },
  {
   "cell_type": "code",
   "execution_count": null,
   "id": "d83d0a0b",
   "metadata": {},
   "outputs": [],
   "source": [
    "# Analysing variation of Tenant Preferred for Kolkata city"
   ]
  },
  {
   "cell_type": "code",
   "execution_count": 31,
   "id": "833bca32",
   "metadata": {},
   "outputs": [
    {
     "data": {
      "text/plain": [
       "<AxesSubplot:xlabel='Tenant Preferred', ylabel='Rent'>"
      ]
     },
     "execution_count": 31,
     "metadata": {},
     "output_type": "execute_result"
    },
    {
     "data": {
      "image/png": "[encoded data removed]",
      "text/plain": [
       "<Figure size 432x288 with 1 Axes>"
      ]
     },
     "metadata": {
      "needs_background": "light"
     },
     "output_type": "display_data"
    }
   ],
   "source": [
    "sns.barplot(x='Tenant Preferred',y='Rent',data = data[data['City']=='Kolkata'])"
   ]
  },
  {
   "cell_type": "code",
   "execution_count": 32,
   "id": "27e645ed",
   "metadata": {},
   "outputs": [
    {
     "data": {
      "text/plain": [
       "<AxesSubplot:xlabel='Tenant Preferred', ylabel='Rent'>"
      ]
     },
     "execution_count": 32,
     "metadata": {},
     "output_type": "execute_result"
    },
    {
     "data": {
      "image/png": "[encoded data removed]",
      "text/plain": [
       "<Figure size 432x288 with 1 Axes>"
      ]
     },
     "metadata": {
      "needs_background": "light"
     },
     "output_type": "display_data"
    }
   ],
   "source": [
    "sns.barplot(x='Tenant Preferred',y='Rent',data = data)"
   ]
  },
  {
   "cell_type": "code",
   "execution_count": null,
   "id": "ee94122c",
   "metadata": {},
   "outputs": [],
   "source": [
    "# This shows that Family has to pay more money as rent than Bachelors."
   ]
  },
  {
   "cell_type": "code",
   "execution_count": 35,
   "id": "30ec161c",
   "metadata": {},
   "outputs": [
    {
     "name": "stderr",
     "output_type": "stream",
     "text": [
      "C:\\Users\\VIVEK KUMAR SINGH\\AppData\\Local\\Temp\\ipykernel_9332\\1686763431.py:1: FutureWarning: ['Posted On', 'Area Type', 'Furnishing Status', 'Tenant Preferred', 'Point of Contact'] did not aggregate successfully. If any error is raised this will raise in a future version of pandas. Drop these columns/ops to avoid this warning.\n",
      "  data.groupby(['City','Area Locality','Floor','BHK']).agg(['min','max','mean'])['Rent']\n"
     ]
    },
    {
     "data": {
      "text/html": [
       "<div>\n",
       "<style scoped>\n",
       "    .dataframe tbody tr th:only-of-type {\n",
       "        vertical-align: middle;\n",
       "    }\n",
       "\n",
       "    .dataframe tbody tr th {\n",
       "        vertical-align: top;\n",
       "    }\n",
       "\n",
       "    .dataframe thead th {\n",
       "        text-align: right;\n",
       "    }\n",
       "</style>\n",
       "<table border=\"1\" class=\"dataframe\">\n",
       "  <thead>\n",
       "    <tr style=\"text-align: right;\">\n",
       "      <th></th>\n",
       "      <th></th>\n",
       "      <th></th>\n",
       "      <th></th>\n",
       "      <th>min</th>\n",
       "      <th>max</th>\n",
       "      <th>mean</th>\n",
       "    </tr>\n",
       "    <tr>\n",
       "      <th>City</th>\n",
       "      <th>Area Locality</th>\n",
       "      <th>Floor</th>\n",
       "      <th>BHK</th>\n",
       "      <th></th>\n",
       "      <th></th>\n",
       "      <th></th>\n",
       "    </tr>\n",
       "  </thead>\n",
       "  <tbody>\n",
       "    <tr>\n",
       "      <th rowspan=\"5\" valign=\"top\">Bangalore</th>\n",
       "      <th rowspan=\"2\" valign=\"top\">A Narayanapura, Mahadevapura</th>\n",
       "      <th>5 out of 5</th>\n",
       "      <th>1</th>\n",
       "      <td>15000</td>\n",
       "      <td>15000</td>\n",
       "      <td>15000.0</td>\n",
       "    </tr>\n",
       "    <tr>\n",
       "      <th>Ground out of 3</th>\n",
       "      <th>2</th>\n",
       "      <td>14000</td>\n",
       "      <td>14000</td>\n",
       "      <td>14000.0</td>\n",
       "    </tr>\n",
       "    <tr>\n",
       "      <th>Aarna Enclave</th>\n",
       "      <th>4 out of 5</th>\n",
       "      <th>2</th>\n",
       "      <td>90000</td>\n",
       "      <td>90000</td>\n",
       "      <td>90000.0</td>\n",
       "    </tr>\n",
       "    <tr>\n",
       "      <th>Abbiareddy Layout, Kaggadasapura</th>\n",
       "      <th>1 out of 4</th>\n",
       "      <th>2</th>\n",
       "      <td>22500</td>\n",
       "      <td>22500</td>\n",
       "      <td>22500.0</td>\n",
       "    </tr>\n",
       "    <tr>\n",
       "      <th>Abbigere</th>\n",
       "      <th>1 out of 2</th>\n",
       "      <th>1</th>\n",
       "      <td>6000</td>\n",
       "      <td>6000</td>\n",
       "      <td>6000.0</td>\n",
       "    </tr>\n",
       "    <tr>\n",
       "      <th>...</th>\n",
       "      <th>...</th>\n",
       "      <th>...</th>\n",
       "      <th>...</th>\n",
       "      <td>...</td>\n",
       "      <td>...</td>\n",
       "      <td>...</td>\n",
       "    </tr>\n",
       "    <tr>\n",
       "      <th rowspan=\"5\" valign=\"top\">Mumbai</th>\n",
       "      <th>simla house at nepeasea road, Napean Sea Road</th>\n",
       "      <th>3 out of 6</th>\n",
       "      <th>1</th>\n",
       "      <td>45000</td>\n",
       "      <td>45000</td>\n",
       "      <td>45000.0</td>\n",
       "    </tr>\n",
       "    <tr>\n",
       "      <th>spring grove uno, Lokhandwala Twp</th>\n",
       "      <th>5 out of 7</th>\n",
       "      <th>1</th>\n",
       "      <td>18000</td>\n",
       "      <td>18000</td>\n",
       "      <td>18000.0</td>\n",
       "    </tr>\n",
       "    <tr>\n",
       "      <th>sra</th>\n",
       "      <th>19 out of 19</th>\n",
       "      <th>1</th>\n",
       "      <td>15000</td>\n",
       "      <td>15000</td>\n",
       "      <td>15000.0</td>\n",
       "    </tr>\n",
       "    <tr>\n",
       "      <th>sunanda circal</th>\n",
       "      <th>3 out of 7</th>\n",
       "      <th>1</th>\n",
       "      <td>7500</td>\n",
       "      <td>7500</td>\n",
       "      <td>7500.0</td>\n",
       "    </tr>\n",
       "    <tr>\n",
       "      <th>vanamali chs ghatla, Ghatla</th>\n",
       "      <th>4 out of 20</th>\n",
       "      <th>2</th>\n",
       "      <td>52000</td>\n",
       "      <td>52000</td>\n",
       "      <td>52000.0</td>\n",
       "    </tr>\n",
       "  </tbody>\n",
       "</table>\n",
       "<p>4408 rows × 3 columns</p>\n",
       "</div>"
      ],
      "text/plain": [
       "                                                                               min  \\\n",
       "City      Area Locality                                 Floor           BHK          \n",
       "Bangalore A Narayanapura, Mahadevapura                  5 out of 5      1    15000   \n",
       "                                                        Ground out of 3 2    14000   \n",
       "          Aarna Enclave                                 4 out of 5      2    90000   \n",
       "          Abbiareddy Layout, Kaggadasapura              1 out of 4      2    22500   \n",
       "          Abbigere                                      1 out of 2      1     6000   \n",
       "...                                                                            ...   \n",
       "Mumbai    simla house at nepeasea road, Napean Sea Road 3 out of 6      1    45000   \n",
       "          spring grove uno, Lokhandwala Twp             5 out of 7      1    18000   \n",
       "          sra                                           19 out of 19    1    15000   \n",
       "          sunanda circal                                3 out of 7      1     7500   \n",
       "          vanamali chs ghatla, Ghatla                   4 out of 20     2    52000   \n",
       "\n",
       "                                                                               max  \\\n",
       "City      Area Locality                                 Floor           BHK          \n",
       "Bangalore A Narayanapura, Mahadevapura                  5 out of 5      1    15000   \n",
       "                                                        Ground out of 3 2    14000   \n",
       "          Aarna Enclave                                 4 out of 5      2    90000   \n",
       "          Abbiareddy Layout, Kaggadasapura              1 out of 4      2    22500   \n",
       "          Abbigere                                      1 out of 2      1     6000   \n",
       "...                                                                            ...   \n",
       "Mumbai    simla house at nepeasea road, Napean Sea Road 3 out of 6      1    45000   \n",
       "          spring grove uno, Lokhandwala Twp             5 out of 7      1    18000   \n",
       "          sra                                           19 out of 19    1    15000   \n",
       "          sunanda circal                                3 out of 7      1     7500   \n",
       "          vanamali chs ghatla, Ghatla                   4 out of 20     2    52000   \n",
       "\n",
       "                                                                                mean  \n",
       "City      Area Locality                                 Floor           BHK           \n",
       "Bangalore A Narayanapura, Mahadevapura                  5 out of 5      1    15000.0  \n",
       "                                                        Ground out of 3 2    14000.0  \n",
       "          Aarna Enclave                                 4 out of 5      2    90000.0  \n",
       "          Abbiareddy Layout, Kaggadasapura              1 out of 4      2    22500.0  \n",
       "          Abbigere                                      1 out of 2      1     6000.0  \n",
       "...                                                                              ...  \n",
       "Mumbai    simla house at nepeasea road, Napean Sea Road 3 out of 6      1    45000.0  \n",
       "          spring grove uno, Lokhandwala Twp             5 out of 7      1    18000.0  \n",
       "          sra                                           19 out of 19    1    15000.0  \n",
       "          sunanda circal                                3 out of 7      1     7500.0  \n",
       "          vanamali chs ghatla, Ghatla                   4 out of 20     2    52000.0  \n",
       "\n",
       "[4408 rows x 3 columns]"
      ]
     },
     "execution_count": 35,
     "metadata": {},
     "output_type": "execute_result"
    }
   ],
   "source": [
    "data.groupby(['City','Area Locality','Floor','BHK']).agg(['min','max','mean'])['Rent']"
   ]
  },
  {
   "cell_type": "code",
   "execution_count": 36,
   "id": "5f98f20b",
   "metadata": {},
   "outputs": [
    {
     "name": "stderr",
     "output_type": "stream",
     "text": [
      "C:\\Users\\VIVEK KUMAR SINGH\\AppData\\Local\\Temp\\ipykernel_9332\\683984015.py:1: FutureWarning: ['Posted On', 'Floor', 'Area Type', 'Furnishing Status', 'Tenant Preferred', 'Point of Contact'] did not aggregate successfully. If any error is raised this will raise in a future version of pandas. Drop these columns/ops to avoid this warning.\n",
      "  data.groupby(['City','Area Locality']).agg(['min','max','mean'])['Rent']\n"
     ]
    },
    {
     "data": {
      "text/html": [
       "<div>\n",
       "<style scoped>\n",
       "    .dataframe tbody tr th:only-of-type {\n",
       "        vertical-align: middle;\n",
       "    }\n",
       "\n",
       "    .dataframe tbody tr th {\n",
       "        vertical-align: top;\n",
       "    }\n",
       "\n",
       "    .dataframe thead th {\n",
       "        text-align: right;\n",
       "    }\n",
       "</style>\n",
       "<table border=\"1\" class=\"dataframe\">\n",
       "  <thead>\n",
       "    <tr style=\"text-align: right;\">\n",
       "      <th></th>\n",
       "      <th></th>\n",
       "      <th>min</th>\n",
       "      <th>max</th>\n",
       "      <th>mean</th>\n",
       "    </tr>\n",
       "    <tr>\n",
       "      <th>City</th>\n",
       "      <th>Area Locality</th>\n",
       "      <th></th>\n",
       "      <th></th>\n",
       "      <th></th>\n",
       "    </tr>\n",
       "  </thead>\n",
       "  <tbody>\n",
       "    <tr>\n",
       "      <th rowspan=\"5\" valign=\"top\">Bangalore</th>\n",
       "      <th>A Narayanapura, Mahadevapura</th>\n",
       "      <td>14000</td>\n",
       "      <td>15000</td>\n",
       "      <td>14500.000000</td>\n",
       "    </tr>\n",
       "    <tr>\n",
       "      <th>Aarna Enclave</th>\n",
       "      <td>90000</td>\n",
       "      <td>90000</td>\n",
       "      <td>90000.000000</td>\n",
       "    </tr>\n",
       "    <tr>\n",
       "      <th>Abbiareddy Layout, Kaggadasapura</th>\n",
       "      <td>22500</td>\n",
       "      <td>22500</td>\n",
       "      <td>22500.000000</td>\n",
       "    </tr>\n",
       "    <tr>\n",
       "      <th>Abbigere</th>\n",
       "      <td>6000</td>\n",
       "      <td>12000</td>\n",
       "      <td>9333.333333</td>\n",
       "    </tr>\n",
       "    <tr>\n",
       "      <th>Aditya Nagar-Vidyaranyapura, Vidyaranyapura</th>\n",
       "      <td>10000</td>\n",
       "      <td>10000</td>\n",
       "      <td>10000.000000</td>\n",
       "    </tr>\n",
       "    <tr>\n",
       "      <th>...</th>\n",
       "      <th>...</th>\n",
       "      <td>...</td>\n",
       "      <td>...</td>\n",
       "      <td>...</td>\n",
       "    </tr>\n",
       "    <tr>\n",
       "      <th rowspan=\"5\" valign=\"top\">Mumbai</th>\n",
       "      <th>simla house at nepeasea road, Napean Sea Road</th>\n",
       "      <td>45000</td>\n",
       "      <td>45000</td>\n",
       "      <td>45000.000000</td>\n",
       "    </tr>\n",
       "    <tr>\n",
       "      <th>spring grove uno, Lokhandwala Twp</th>\n",
       "      <td>18000</td>\n",
       "      <td>18000</td>\n",
       "      <td>18000.000000</td>\n",
       "    </tr>\n",
       "    <tr>\n",
       "      <th>sra</th>\n",
       "      <td>15000</td>\n",
       "      <td>15000</td>\n",
       "      <td>15000.000000</td>\n",
       "    </tr>\n",
       "    <tr>\n",
       "      <th>sunanda circal</th>\n",
       "      <td>7500</td>\n",
       "      <td>7500</td>\n",
       "      <td>7500.000000</td>\n",
       "    </tr>\n",
       "    <tr>\n",
       "      <th>vanamali chs ghatla, Ghatla</th>\n",
       "      <td>52000</td>\n",
       "      <td>52000</td>\n",
       "      <td>52000.000000</td>\n",
       "    </tr>\n",
       "  </tbody>\n",
       "</table>\n",
       "<p>2240 rows × 3 columns</p>\n",
       "</div>"
      ],
      "text/plain": [
       "                                                           min    max  \\\n",
       "City      Area Locality                                                 \n",
       "Bangalore A Narayanapura, Mahadevapura                   14000  15000   \n",
       "          Aarna Enclave                                  90000  90000   \n",
       "          Abbiareddy Layout, Kaggadasapura               22500  22500   \n",
       "          Abbigere                                        6000  12000   \n",
       "          Aditya Nagar-Vidyaranyapura, Vidyaranyapura    10000  10000   \n",
       "...                                                        ...    ...   \n",
       "Mumbai    simla house at nepeasea road, Napean Sea Road  45000  45000   \n",
       "          spring grove uno, Lokhandwala Twp              18000  18000   \n",
       "          sra                                            15000  15000   \n",
       "          sunanda circal                                  7500   7500   \n",
       "          vanamali chs ghatla, Ghatla                    52000  52000   \n",
       "\n",
       "                                                                 mean  \n",
       "City      Area Locality                                                \n",
       "Bangalore A Narayanapura, Mahadevapura                   14500.000000  \n",
       "          Aarna Enclave                                  90000.000000  \n",
       "          Abbiareddy Layout, Kaggadasapura               22500.000000  \n",
       "          Abbigere                                        9333.333333  \n",
       "          Aditya Nagar-Vidyaranyapura, Vidyaranyapura    10000.000000  \n",
       "...                                                               ...  \n",
       "Mumbai    simla house at nepeasea road, Napean Sea Road  45000.000000  \n",
       "          spring grove uno, Lokhandwala Twp              18000.000000  \n",
       "          sra                                            15000.000000  \n",
       "          sunanda circal                                  7500.000000  \n",
       "          vanamali chs ghatla, Ghatla                    52000.000000  \n",
       "\n",
       "[2240 rows x 3 columns]"
      ]
     },
     "execution_count": 36,
     "metadata": {},
     "output_type": "execute_result"
    }
   ],
   "source": [
    "data.groupby(['City','Area Locality']).agg(['min','max','mean'])['Rent']"
   ]
  },
  {
   "cell_type": "markdown",
   "id": "b12fab6b",
   "metadata": {},
   "source": [
    "## Data Preprocessing"
   ]
  },
  {
   "cell_type": "code",
   "execution_count": 37,
   "id": "af3b4b71",
   "metadata": {},
   "outputs": [
    {
     "data": {
      "text/html": [
       "<div>\n",
       "<style scoped>\n",
       "    .dataframe tbody tr th:only-of-type {\n",
       "        vertical-align: middle;\n",
       "    }\n",
       "\n",
       "    .dataframe tbody tr th {\n",
       "        vertical-align: top;\n",
       "    }\n",
       "\n",
       "    .dataframe thead th {\n",
       "        text-align: right;\n",
       "    }\n",
       "</style>\n",
       "<table border=\"1\" class=\"dataframe\">\n",
       "  <thead>\n",
       "    <tr style=\"text-align: right;\">\n",
       "      <th></th>\n",
       "      <th>Posted On</th>\n",
       "      <th>BHK</th>\n",
       "      <th>Rent</th>\n",
       "      <th>Size</th>\n",
       "      <th>Floor</th>\n",
       "      <th>Area Type</th>\n",
       "      <th>Area Locality</th>\n",
       "      <th>City</th>\n",
       "      <th>Furnishing Status</th>\n",
       "      <th>Tenant Preferred</th>\n",
       "      <th>Bathroom</th>\n",
       "      <th>Point of Contact</th>\n",
       "    </tr>\n",
       "  </thead>\n",
       "  <tbody>\n",
       "    <tr>\n",
       "      <th>0</th>\n",
       "      <td>2022-05-18</td>\n",
       "      <td>2</td>\n",
       "      <td>0.002515</td>\n",
       "      <td>0.136421</td>\n",
       "      <td>Ground out of 2</td>\n",
       "      <td>Super Area</td>\n",
       "      <td>Bandel</td>\n",
       "      <td>Kolkata</td>\n",
       "      <td>Unfurnished</td>\n",
       "      <td>Bachelors/Family</td>\n",
       "      <td>2</td>\n",
       "      <td>Contact Owner</td>\n",
       "    </tr>\n",
       "    <tr>\n",
       "      <th>1</th>\n",
       "      <td>2022-05-13</td>\n",
       "      <td>2</td>\n",
       "      <td>0.005373</td>\n",
       "      <td>0.098874</td>\n",
       "      <td>1 out of 3</td>\n",
       "      <td>Super Area</td>\n",
       "      <td>Phool Bagan, Kankurgachi</td>\n",
       "      <td>Kolkata</td>\n",
       "      <td>Semi-Furnished</td>\n",
       "      <td>Bachelors/Family</td>\n",
       "      <td>1</td>\n",
       "      <td>Contact Owner</td>\n",
       "    </tr>\n",
       "    <tr>\n",
       "      <th>2</th>\n",
       "      <td>2022-05-16</td>\n",
       "      <td>2</td>\n",
       "      <td>0.004516</td>\n",
       "      <td>0.123905</td>\n",
       "      <td>1 out of 3</td>\n",
       "      <td>Super Area</td>\n",
       "      <td>Salt Lake City Sector 2</td>\n",
       "      <td>Kolkata</td>\n",
       "      <td>Semi-Furnished</td>\n",
       "      <td>Bachelors/Family</td>\n",
       "      <td>1</td>\n",
       "      <td>Contact Owner</td>\n",
       "    </tr>\n",
       "    <tr>\n",
       "      <th>3</th>\n",
       "      <td>2022-07-04</td>\n",
       "      <td>2</td>\n",
       "      <td>0.002515</td>\n",
       "      <td>0.098874</td>\n",
       "      <td>1 out of 2</td>\n",
       "      <td>Super Area</td>\n",
       "      <td>Dumdum Park</td>\n",
       "      <td>Kolkata</td>\n",
       "      <td>Unfurnished</td>\n",
       "      <td>Bachelors/Family</td>\n",
       "      <td>1</td>\n",
       "      <td>Contact Owner</td>\n",
       "    </tr>\n",
       "    <tr>\n",
       "      <th>4</th>\n",
       "      <td>2022-05-09</td>\n",
       "      <td>2</td>\n",
       "      <td>0.001801</td>\n",
       "      <td>0.105131</td>\n",
       "      <td>1 out of 2</td>\n",
       "      <td>Carpet Area</td>\n",
       "      <td>South Dum Dum</td>\n",
       "      <td>Kolkata</td>\n",
       "      <td>Unfurnished</td>\n",
       "      <td>Bachelors</td>\n",
       "      <td>1</td>\n",
       "      <td>Contact Owner</td>\n",
       "    </tr>\n",
       "  </tbody>\n",
       "</table>\n",
       "</div>"
      ],
      "text/plain": [
       "    Posted On  BHK      Rent      Size            Floor    Area Type  \\\n",
       "0  2022-05-18    2  0.002515  0.136421  Ground out of 2   Super Area   \n",
       "1  2022-05-13    2  0.005373  0.098874       1 out of 3   Super Area   \n",
       "2  2022-05-16    2  0.004516  0.123905       1 out of 3   Super Area   \n",
       "3  2022-07-04    2  0.002515  0.098874       1 out of 2   Super Area   \n",
       "4  2022-05-09    2  0.001801  0.105131       1 out of 2  Carpet Area   \n",
       "\n",
       "              Area Locality     City Furnishing Status  Tenant Preferred  \\\n",
       "0                    Bandel  Kolkata       Unfurnished  Bachelors/Family   \n",
       "1  Phool Bagan, Kankurgachi  Kolkata    Semi-Furnished  Bachelors/Family   \n",
       "2   Salt Lake City Sector 2  Kolkata    Semi-Furnished  Bachelors/Family   \n",
       "3               Dumdum Park  Kolkata       Unfurnished  Bachelors/Family   \n",
       "4             South Dum Dum  Kolkata       Unfurnished         Bachelors   \n",
       "\n",
       "   Bathroom Point of Contact  \n",
       "0         2    Contact Owner  \n",
       "1         1    Contact Owner  \n",
       "2         1    Contact Owner  \n",
       "3         1    Contact Owner  \n",
       "4         1    Contact Owner  "
      ]
     },
     "execution_count": 37,
     "metadata": {},
     "output_type": "execute_result"
    }
   ],
   "source": [
    "from sklearn.preprocessing import MinMaxScaler\n",
    "mms = MinMaxScaler()\n",
    "data['Rent'] = mms.fit_transform(data[['Rent']])\n",
    "data['Size'] = mms.fit_transform(data[['Size']])\n",
    "data.head()"
   ]
  },
  {
   "cell_type": "markdown",
   "id": "24ad22de",
   "metadata": {},
   "source": [
    "### Checking correlation between the independent columns"
   ]
  },
  {
   "cell_type": "code",
   "execution_count": 38,
   "id": "d5e63253",
   "metadata": {},
   "outputs": [
    {
     "name": "stderr",
     "output_type": "stream",
     "text": [
      "C:\\Users\\VIVEK KUMAR SINGH\\AppData\\Local\\Temp\\ipykernel_9332\\1978061071.py:1: FutureWarning: The default value of numeric_only in DataFrame.corr is deprecated. In a future version, it will default to False. Select only valid columns or specify the value of numeric_only to silence this warning.\n",
      "  cor = data.corr()\n"
     ]
    },
    {
     "data": {
      "text/plain": [
       "<AxesSubplot:>"
      ]
     },
     "execution_count": 38,
     "metadata": {},
     "output_type": "execute_result"
    },
    {
     "data": {
      "image/png": "[encoded data removed]",
      "text/plain": [
       "<Figure size 432x288 with 2 Axes>"
      ]
     },
     "metadata": {
      "needs_background": "light"
     },
     "output_type": "display_data"
    }
   ],
   "source": [
    "cor = data.corr()\n",
    "sns.heatmap(cor,annot=True)"
   ]
  },
  {
   "cell_type": "code",
   "execution_count": null,
   "id": "1f6c4f7f",
   "metadata": {},
   "outputs": [],
   "source": [
    "# BHK and Bathroom columns are highly correlated to each other\n",
    "# BHK and Size columns are highly correlated to each other\n",
    "# Size and Bathroom columns are highly correlated to each other"
   ]
  },
  {
   "cell_type": "code",
   "execution_count": 39,
   "id": "e480abd8",
   "metadata": {},
   "outputs": [],
   "source": [
    "# Dropping BHK and Size column to eliminate correlation\n",
    "data.drop(['BHK','Size'],axis=1,inplace=True)"
   ]
  },
  {
   "cell_type": "markdown",
   "id": "bac95b3a",
   "metadata": {},
   "source": [
    "### Changing Categorical column to numerical column"
   ]
  },
  {
   "cell_type": "code",
   "execution_count": 40,
   "id": "e6dff87d",
   "metadata": {},
   "outputs": [
    {
     "name": "stderr",
     "output_type": "stream",
     "text": [
      "C:\\Users\\VIVEK KUMAR SINGH\\anaconda3\\lib\\site-packages\\sklearn\\preprocessing\\_label.py:115: DataConversionWarning: A column-vector y was passed when a 1d array was expected. Please change the shape of y to (n_samples, ), for example using ravel().\n",
      "  y = column_or_1d(y, warn=True)\n",
      "C:\\Users\\VIVEK KUMAR SINGH\\anaconda3\\lib\\site-packages\\sklearn\\preprocessing\\_label.py:115: DataConversionWarning: A column-vector y was passed when a 1d array was expected. Please change the shape of y to (n_samples, ), for example using ravel().\n",
      "  y = column_or_1d(y, warn=True)\n"
     ]
    },
    {
     "data": {
      "text/html": [
       "<div>\n",
       "<style scoped>\n",
       "    .dataframe tbody tr th:only-of-type {\n",
       "        vertical-align: middle;\n",
       "    }\n",
       "\n",
       "    .dataframe tbody tr th {\n",
       "        vertical-align: top;\n",
       "    }\n",
       "\n",
       "    .dataframe thead th {\n",
       "        text-align: right;\n",
       "    }\n",
       "</style>\n",
       "<table border=\"1\" class=\"dataframe\">\n",
       "  <thead>\n",
       "    <tr style=\"text-align: right;\">\n",
       "      <th></th>\n",
       "      <th>Posted On</th>\n",
       "      <th>Rent</th>\n",
       "      <th>Floor</th>\n",
       "      <th>Area Type</th>\n",
       "      <th>Area Locality</th>\n",
       "      <th>City</th>\n",
       "      <th>Furnishing Status</th>\n",
       "      <th>Tenant Preferred</th>\n",
       "      <th>Bathroom</th>\n",
       "      <th>Point of Contact</th>\n",
       "    </tr>\n",
       "  </thead>\n",
       "  <tbody>\n",
       "    <tr>\n",
       "      <th>0</th>\n",
       "      <td>2022-05-18</td>\n",
       "      <td>0.002515</td>\n",
       "      <td>Ground out of 2</td>\n",
       "      <td>2</td>\n",
       "      <td>Bandel</td>\n",
       "      <td>Kolkata</td>\n",
       "      <td>2</td>\n",
       "      <td>Bachelors/Family</td>\n",
       "      <td>2</td>\n",
       "      <td>Contact Owner</td>\n",
       "    </tr>\n",
       "    <tr>\n",
       "      <th>1</th>\n",
       "      <td>2022-05-13</td>\n",
       "      <td>0.005373</td>\n",
       "      <td>1 out of 3</td>\n",
       "      <td>2</td>\n",
       "      <td>Phool Bagan, Kankurgachi</td>\n",
       "      <td>Kolkata</td>\n",
       "      <td>1</td>\n",
       "      <td>Bachelors/Family</td>\n",
       "      <td>1</td>\n",
       "      <td>Contact Owner</td>\n",
       "    </tr>\n",
       "    <tr>\n",
       "      <th>2</th>\n",
       "      <td>2022-05-16</td>\n",
       "      <td>0.004516</td>\n",
       "      <td>1 out of 3</td>\n",
       "      <td>2</td>\n",
       "      <td>Salt Lake City Sector 2</td>\n",
       "      <td>Kolkata</td>\n",
       "      <td>1</td>\n",
       "      <td>Bachelors/Family</td>\n",
       "      <td>1</td>\n",
       "      <td>Contact Owner</td>\n",
       "    </tr>\n",
       "    <tr>\n",
       "      <th>3</th>\n",
       "      <td>2022-07-04</td>\n",
       "      <td>0.002515</td>\n",
       "      <td>1 out of 2</td>\n",
       "      <td>2</td>\n",
       "      <td>Dumdum Park</td>\n",
       "      <td>Kolkata</td>\n",
       "      <td>2</td>\n",
       "      <td>Bachelors/Family</td>\n",
       "      <td>1</td>\n",
       "      <td>Contact Owner</td>\n",
       "    </tr>\n",
       "    <tr>\n",
       "      <th>4</th>\n",
       "      <td>2022-05-09</td>\n",
       "      <td>0.001801</td>\n",
       "      <td>1 out of 2</td>\n",
       "      <td>1</td>\n",
       "      <td>South Dum Dum</td>\n",
       "      <td>Kolkata</td>\n",
       "      <td>2</td>\n",
       "      <td>Bachelors</td>\n",
       "      <td>1</td>\n",
       "      <td>Contact Owner</td>\n",
       "    </tr>\n",
       "  </tbody>\n",
       "</table>\n",
       "</div>"
      ],
      "text/plain": [
       "    Posted On      Rent            Floor  Area Type             Area Locality  \\\n",
       "0  2022-05-18  0.002515  Ground out of 2          2                    Bandel   \n",
       "1  2022-05-13  0.005373       1 out of 3          2  Phool Bagan, Kankurgachi   \n",
       "2  2022-05-16  0.004516       1 out of 3          2   Salt Lake City Sector 2   \n",
       "3  2022-07-04  0.002515       1 out of 2          2               Dumdum Park   \n",
       "4  2022-05-09  0.001801       1 out of 2          1             South Dum Dum   \n",
       "\n",
       "      City  Furnishing Status  Tenant Preferred  Bathroom Point of Contact  \n",
       "0  Kolkata                  2  Bachelors/Family         2    Contact Owner  \n",
       "1  Kolkata                  1  Bachelors/Family         1    Contact Owner  \n",
       "2  Kolkata                  1  Bachelors/Family         1    Contact Owner  \n",
       "3  Kolkata                  2  Bachelors/Family         1    Contact Owner  \n",
       "4  Kolkata                  2         Bachelors         1    Contact Owner  "
      ]
     },
     "execution_count": 40,
     "metadata": {},
     "output_type": "execute_result"
    }
   ],
   "source": [
    "from sklearn.preprocessing import LabelEncoder\n",
    "le = LabelEncoder()\n",
    "data['Area Type'] = le.fit_transform(data[['Area Type']])\n",
    "data['Furnishing Status'] = le.fit_transform(data[['Furnishing Status']])\n",
    "data.head()"
   ]
  },
  {
   "cell_type": "code",
   "execution_count": 41,
   "id": "c5f03456",
   "metadata": {},
   "outputs": [],
   "source": [
    "data1 = pd.get_dummies(data['Floor'],drop_first=True)\n",
    "data2 = pd.get_dummies(data['Area Locality'],drop_first=True)\n",
    "data3 = pd.get_dummies(data['City'],drop_first=True)\n",
    "data4 = pd.get_dummies(data['Tenant Preferred'],drop_first=True)\n",
    "data5 = pd.get_dummies(data['Point of Contact'],drop_first=True)"
   ]
  },
  {
   "cell_type": "code",
   "execution_count": 42,
   "id": "f0c15ad3",
   "metadata": {},
   "outputs": [],
   "source": [
    "data.drop(['Floor','Area Locality','City','Tenant Preferred','Point of Contact','Posted On'],axis=1,inplace=True)"
   ]
  },
  {
   "cell_type": "code",
   "execution_count": 43,
   "id": "e1b789fd",
   "metadata": {},
   "outputs": [
    {
     "data": {
      "text/html": [
       "<div>\n",
       "<style scoped>\n",
       "    .dataframe tbody tr th:only-of-type {\n",
       "        vertical-align: middle;\n",
       "    }\n",
       "\n",
       "    .dataframe tbody tr th {\n",
       "        vertical-align: top;\n",
       "    }\n",
       "\n",
       "    .dataframe thead th {\n",
       "        text-align: right;\n",
       "    }\n",
       "</style>\n",
       "<table border=\"1\" class=\"dataframe\">\n",
       "  <thead>\n",
       "    <tr style=\"text-align: right;\">\n",
       "      <th></th>\n",
       "      <th>Rent</th>\n",
       "      <th>Area Type</th>\n",
       "      <th>Furnishing Status</th>\n",
       "      <th>Bathroom</th>\n",
       "      <th>1 out of 1</th>\n",
       "      <th>1 out of 10</th>\n",
       "      <th>1 out of 11</th>\n",
       "      <th>1 out of 12</th>\n",
       "      <th>1 out of 13</th>\n",
       "      <th>1 out of 14</th>\n",
       "      <th>...</th>\n",
       "      <th>whitefield</th>\n",
       "      <th>Chennai</th>\n",
       "      <th>Delhi</th>\n",
       "      <th>Hyderabad</th>\n",
       "      <th>Kolkata</th>\n",
       "      <th>Mumbai</th>\n",
       "      <th>Bachelors/Family</th>\n",
       "      <th>Family</th>\n",
       "      <th>Contact Builder</th>\n",
       "      <th>Contact Owner</th>\n",
       "    </tr>\n",
       "  </thead>\n",
       "  <tbody>\n",
       "    <tr>\n",
       "      <th>0</th>\n",
       "      <td>0.002515</td>\n",
       "      <td>2</td>\n",
       "      <td>2</td>\n",
       "      <td>2</td>\n",
       "      <td>0</td>\n",
       "      <td>0</td>\n",
       "      <td>0</td>\n",
       "      <td>0</td>\n",
       "      <td>0</td>\n",
       "      <td>0</td>\n",
       "      <td>...</td>\n",
       "      <td>0</td>\n",
       "      <td>0</td>\n",
       "      <td>0</td>\n",
       "      <td>0</td>\n",
       "      <td>1</td>\n",
       "      <td>0</td>\n",
       "      <td>1</td>\n",
       "      <td>0</td>\n",
       "      <td>0</td>\n",
       "      <td>1</td>\n",
       "    </tr>\n",
       "    <tr>\n",
       "      <th>1</th>\n",
       "      <td>0.005373</td>\n",
       "      <td>2</td>\n",
       "      <td>1</td>\n",
       "      <td>1</td>\n",
       "      <td>0</td>\n",
       "      <td>0</td>\n",
       "      <td>0</td>\n",
       "      <td>0</td>\n",
       "      <td>0</td>\n",
       "      <td>0</td>\n",
       "      <td>...</td>\n",
       "      <td>0</td>\n",
       "      <td>0</td>\n",
       "      <td>0</td>\n",
       "      <td>0</td>\n",
       "      <td>1</td>\n",
       "      <td>0</td>\n",
       "      <td>1</td>\n",
       "      <td>0</td>\n",
       "      <td>0</td>\n",
       "      <td>1</td>\n",
       "    </tr>\n",
       "    <tr>\n",
       "      <th>2</th>\n",
       "      <td>0.004516</td>\n",
       "      <td>2</td>\n",
       "      <td>1</td>\n",
       "      <td>1</td>\n",
       "      <td>0</td>\n",
       "      <td>0</td>\n",
       "      <td>0</td>\n",
       "      <td>0</td>\n",
       "      <td>0</td>\n",
       "      <td>0</td>\n",
       "      <td>...</td>\n",
       "      <td>0</td>\n",
       "      <td>0</td>\n",
       "      <td>0</td>\n",
       "      <td>0</td>\n",
       "      <td>1</td>\n",
       "      <td>0</td>\n",
       "      <td>1</td>\n",
       "      <td>0</td>\n",
       "      <td>0</td>\n",
       "      <td>1</td>\n",
       "    </tr>\n",
       "    <tr>\n",
       "      <th>3</th>\n",
       "      <td>0.002515</td>\n",
       "      <td>2</td>\n",
       "      <td>2</td>\n",
       "      <td>1</td>\n",
       "      <td>0</td>\n",
       "      <td>0</td>\n",
       "      <td>0</td>\n",
       "      <td>0</td>\n",
       "      <td>0</td>\n",
       "      <td>0</td>\n",
       "      <td>...</td>\n",
       "      <td>0</td>\n",
       "      <td>0</td>\n",
       "      <td>0</td>\n",
       "      <td>0</td>\n",
       "      <td>1</td>\n",
       "      <td>0</td>\n",
       "      <td>1</td>\n",
       "      <td>0</td>\n",
       "      <td>0</td>\n",
       "      <td>1</td>\n",
       "    </tr>\n",
       "    <tr>\n",
       "      <th>4</th>\n",
       "      <td>0.001801</td>\n",
       "      <td>1</td>\n",
       "      <td>2</td>\n",
       "      <td>1</td>\n",
       "      <td>0</td>\n",
       "      <td>0</td>\n",
       "      <td>0</td>\n",
       "      <td>0</td>\n",
       "      <td>0</td>\n",
       "      <td>0</td>\n",
       "      <td>...</td>\n",
       "      <td>0</td>\n",
       "      <td>0</td>\n",
       "      <td>0</td>\n",
       "      <td>0</td>\n",
       "      <td>1</td>\n",
       "      <td>0</td>\n",
       "      <td>0</td>\n",
       "      <td>0</td>\n",
       "      <td>0</td>\n",
       "      <td>1</td>\n",
       "    </tr>\n",
       "  </tbody>\n",
       "</table>\n",
       "<p>5 rows × 2726 columns</p>\n",
       "</div>"
      ],
      "text/plain": [
       "       Rent  Area Type  Furnishing Status  Bathroom  1 out of 1  1 out of 10  \\\n",
       "0  0.002515          2                  2         2           0            0   \n",
       "1  0.005373          2                  1         1           0            0   \n",
       "2  0.004516          2                  1         1           0            0   \n",
       "3  0.002515          2                  2         1           0            0   \n",
       "4  0.001801          1                  2         1           0            0   \n",
       "\n",
       "   1 out of 11  1 out of 12  1 out of 13  1 out of 14  ...  whitefield  \\\n",
       "0            0            0            0            0  ...           0   \n",
       "1            0            0            0            0  ...           0   \n",
       "2            0            0            0            0  ...           0   \n",
       "3            0            0            0            0  ...           0   \n",
       "4            0            0            0            0  ...           0   \n",
       "\n",
       "   Chennai  Delhi  Hyderabad  Kolkata  Mumbai  Bachelors/Family  Family  \\\n",
       "0        0      0          0        1       0                 1       0   \n",
       "1        0      0          0        1       0                 1       0   \n",
       "2        0      0          0        1       0                 1       0   \n",
       "3        0      0          0        1       0                 1       0   \n",
       "4        0      0          0        1       0                 0       0   \n",
       "\n",
       "   Contact Builder  Contact Owner  \n",
       "0                0              1  \n",
       "1                0              1  \n",
       "2                0              1  \n",
       "3                0              1  \n",
       "4                0              1  \n",
       "\n",
       "[5 rows x 2726 columns]"
      ]
     },
     "execution_count": 43,
     "metadata": {},
     "output_type": "execute_result"
    }
   ],
   "source": [
    "data = pd.concat([data,data1,data2,data3,data4,data5],axis=1)\n",
    "data.head()"
   ]
  },
  {
   "cell_type": "code",
   "execution_count": 44,
   "id": "3f741979",
   "metadata": {},
   "outputs": [],
   "source": [
    "x = data.drop('Rent',axis=1)\n",
    "y = data.iloc[:,1]"
   ]
  },
  {
   "cell_type": "markdown",
   "id": "74e03f8c",
   "metadata": {},
   "source": [
    "### Applying Principal Component Analysis to decrese the number of columns"
   ]
  },
  {
   "cell_type": "code",
   "execution_count": 45,
   "id": "4371cc2c",
   "metadata": {},
   "outputs": [],
   "source": [
    "from sklearn.decomposition import PCA\n",
    "pca = PCA(n_components=7)\n",
    "x = pca.fit_transform(x)"
   ]
  },
  {
   "cell_type": "markdown",
   "id": "d90a134b",
   "metadata": {},
   "source": [
    "## Model creation"
   ]
  },
  {
   "cell_type": "markdown",
   "id": "44df50c5",
   "metadata": {},
   "source": [
    "### Splitting the dataset into train and test dataset"
   ]
  },
  {
   "cell_type": "code",
   "execution_count": 46,
   "id": "9b493e67",
   "metadata": {},
   "outputs": [],
   "source": [
    "from sklearn.model_selection import train_test_split\n",
    "x_train,x_test,y_train,y_test = train_test_split(x,y,test_size=0.25,random_state=0)"
   ]
  },
  {
   "cell_type": "markdown",
   "id": "6dd75e22",
   "metadata": {},
   "source": [
    "### Linear Regression Model"
   ]
  },
  {
   "cell_type": "code",
   "execution_count": 47,
   "id": "cec7fa96",
   "metadata": {},
   "outputs": [
    {
     "data": {
      "text/plain": [
       "LinearRegression()"
      ]
     },
     "execution_count": 47,
     "metadata": {},
     "output_type": "execute_result"
    }
   ],
   "source": [
    "from sklearn.linear_model import LinearRegression\n",
    "lr = LinearRegression()\n",
    "lr.fit(x_train,y_train)"
   ]
  },
  {
   "cell_type": "code",
   "execution_count": 48,
   "id": "76333571",
   "metadata": {},
   "outputs": [],
   "source": [
    "y_pred = lr.predict(x_test)"
   ]
  },
  {
   "cell_type": "code",
   "execution_count": 49,
   "id": "ee032218",
   "metadata": {},
   "outputs": [
    {
     "data": {
      "text/plain": [
       "0.8724224874218396"
      ]
     },
     "execution_count": 49,
     "metadata": {},
     "output_type": "execute_result"
    }
   ],
   "source": [
    "from sklearn.metrics import r2_score\n",
    "r2_score(y_pred,y_test)"
   ]
  },
  {
   "cell_type": "markdown",
   "id": "654cb7b6",
   "metadata": {},
   "source": [
    "### Decision Tree Regressor Model"
   ]
  },
  {
   "cell_type": "code",
   "execution_count": 50,
   "id": "da1466dd",
   "metadata": {},
   "outputs": [
    {
     "data": {
      "text/plain": [
       "DecisionTreeRegressor()"
      ]
     },
     "execution_count": 50,
     "metadata": {},
     "output_type": "execute_result"
    }
   ],
   "source": [
    "from sklearn.tree import DecisionTreeRegressor\n",
    "dtr = DecisionTreeRegressor()\n",
    "dtr.fit(x_train,y_train)"
   ]
  },
  {
   "cell_type": "code",
   "execution_count": 51,
   "id": "8e513811",
   "metadata": {},
   "outputs": [],
   "source": [
    "y_pred = dtr.predict(x_test)"
   ]
  },
  {
   "cell_type": "code",
   "execution_count": 52,
   "id": "c116413e",
   "metadata": {},
   "outputs": [
    {
     "data": {
      "text/plain": [
       "0.9696665966279182"
      ]
     },
     "execution_count": 52,
     "metadata": {},
     "output_type": "execute_result"
    }
   ],
   "source": [
    "from sklearn.metrics import r2_score\n",
    "r2_score(y_pred,y_test)"
   ]
  },
  {
   "cell_type": "markdown",
   "id": "eaf61804",
   "metadata": {},
   "source": [
    "### Random Forest Regressor Model"
   ]
  },
  {
   "cell_type": "code",
   "execution_count": 53,
   "id": "e8e40baf",
   "metadata": {},
   "outputs": [
    {
     "data": {
      "text/plain": [
       "RandomForestRegressor()"
      ]
     },
     "execution_count": 53,
     "metadata": {},
     "output_type": "execute_result"
    }
   ],
   "source": [
    "from sklearn.ensemble import RandomForestRegressor\n",
    "dtr = RandomForestRegressor()\n",
    "dtr.fit(x_train,y_train)"
   ]
  },
  {
   "cell_type": "code",
   "execution_count": 54,
   "id": "3019d75a",
   "metadata": {},
   "outputs": [],
   "source": [
    "y_pred = dtr.predict(x_test)"
   ]
  },
  {
   "cell_type": "code",
   "execution_count": 55,
   "id": "1e2d2402",
   "metadata": {},
   "outputs": [
    {
     "data": {
      "text/plain": [
       "0.9743948376991726"
      ]
     },
     "execution_count": 55,
     "metadata": {},
     "output_type": "execute_result"
    }
   ],
   "source": [
    "from sklearn.metrics import r2_score\n",
    "r2_score(y_pred,y_test)"
   ]
  }
 ],
 "metadata": {
  "kernelspec": {
   "display_name": "Python 3 (ipykernel)",
   "language": "python",
   "name": "python3"
  },
  "language_info": {
   "codemirror_mode": {
    "name": "ipython",
    "version": 3
   },
   "file_extension": ".py",
   "mimetype": "text/x-python",
   "name": "python",
   "nbconvert_exporter": "python",
   "pygments_lexer": "ipython3",
   "version": "3.9.12"
  }
 },
 "nbformat": 4,
 "nbformat_minor": 5
}
